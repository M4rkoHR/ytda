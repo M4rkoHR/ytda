{
 "cells": [
  {
   "cell_type": "code",
   "execution_count": 3,
   "metadata": {
    "collapsed": true
   },
   "outputs": [],
   "source": [
    "import sys\n",
    "sys.path.append('../')\n",
    "\n",
    "from youtube_api import YoutubeDataApi\n",
    "import os"
   ]
  },
  {
   "cell_type": "code",
   "execution_count": 4,
   "metadata": {
    "collapsed": true
   },
   "outputs": [],
   "source": [
    "key = os.environ.get('YT_KEY')"
   ]
  },
  {
   "cell_type": "code",
   "execution_count": 5,
   "metadata": {
    "collapsed": true
   },
   "outputs": [],
   "source": [
    "yt = YoutubeDataApi(key)"
   ]
  },
  {
   "cell_type": "code",
   "execution_count": 6,
   "metadata": {
    "collapsed": true
   },
   "outputs": [],
   "source": [
    "vids = ['wmxDZeh8W34', 'PIXQdfiRZNk','nvEFb_dWJdQ']"
   ]
  },
  {
   "cell_type": "code",
   "execution_count": 8,
   "metadata": {},
   "outputs": [],
   "source": [
    "caps = yt.get_captions(vids)"
   ]
  },
  {
   "cell_type": "code",
   "execution_count": 9,
   "metadata": {},
   "outputs": [
    {
     "data": {
      "text/plain": [
       "3"
      ]
     },
     "execution_count": 9,
     "metadata": {},
     "output_type": "execute_result"
    }
   ],
   "source": [
    "len(caps)"
   ]
  },
  {
   "cell_type": "code",
   "execution_count": 10,
   "metadata": {},
   "outputs": [
    {
     "data": {
      "text/plain": [
       "[{'caption': \"I have put some despicable things onto frozen pizza like some really fancy things that I shouldn't even admit I have put a black truffle on a frozen pizza but I did not pay for that black truffle and I was don't [Music] I'm car Nicoletti today I am in the munchies Test Kitchen and I'm gonna show you how to doctor up a frozen pizza you can trick people into thinking you're an amazing cook for this rendition today I'm going to use a variety of wild mushrooms some broccoli rabe I'm gonna caramelize some onions and then I have some fresh ricotta that I'm gonna dollop on usually frozen pizzas will come with round of cardboard underneath and I'm doing it on a sheet pan I think sometimes the cardboard makes it taste like cardboard so I'm gonna put this in the oven right now for about 25 minutes and while it's cooking I'm gonna cook all the toppings just to make this even easier I'm gonna try to do everything in one pan I'm not gonna try I'm gonna do everything in one pan first because it takes the longest I'm gonna caramelize the onions slice them thin and this is vegetable oil I'm using butter the butter imparts good flavor but the vegetable oil were protected from burning so while these are cooking I'm going to get the mushrooms ready these are just things that I would order want to take outside these are brown beech mushrooms shiitakes and oyster mushrooms these ones are relatively clean but sometimes they come and they're like really really dirty I say wash them you're adding liquid to something that retains a lot of moisture but I think that's better than eating something gritty and sandy and then moisture will cook out while you're cooking them you're probably not gonna need a ton for one frozen pizza but make sure you're giving yourself with generous portion the onions have been cooking for about 20 minutes they're nice and caramelized and brown and just squeeze some lemon in here just because the onions are really sweet once they've been caramelized and they need a little bit of acid to break them up now I'm going to transfer them to another bowl and I'm going to get the mushrooms going in the same pan little more oil already eating a frozen pizza so no need to be precious and I'm adding salt here just to get some of the liquid to start me too now because that's how you get nice golden crystals so the mushrooms are starting to brown a little and they're starting to sweat down and are you see they're shrinking a bit amount what I generally find is that they steam the water comes out they shrink down and then they have space okay so these are pretty brown and we're gonna take them out so with the broccoli rabe I'm just gonna trim the ends which are a little bit woody and saute them with olive oil and this is also really great if you want to impress a date but you don't know how to cook it's basically just a flatbread with cheese that you're amplifying if you hope once it's kind of wilted I will squeeze some lemon juice onto it all right this looks good to me you know again don't want to get them too far because they're gonna go back in the oven for another 5 minutes this is the pizza you absolutely could just eat it at this stage and it would be delicious but we really didn't do that much work and it's about to be I mean this is really choose-your-own-adventure personally like a solid layer of mushrooms I'm doing with my hands because I will eat this pizza by myself okay so now I'm doing the caramelized onions ladies a little broccoli rabe sout it's a real art to this this is the almost finished frozen pizza so this is gonna go in the oven for 5 more minutes at 4 major it just everything really like melded together [Music] the mushrooms got a little browner so too the broccoli rabe which is what we were wanting I'm gonna dollop ricotta all over it I'm gonna take a little bit further I'm gonna add some more brightness I'm gonna zest like half a lemon on top here you have your frozen pizza classic nothing done to it here we have this masterpiece it's not delivery it's not homemade it's not not homey it's no longer frozen it's what's for dinner Pizza it's really good there's bitterness from the broccoli rabe sweetness from the onion moodiness from the mushroom creaminess from the ricotta and then you just have to base which is a frozen pizza which is a beautiful thing [Music]\",\n",
       "  'collection_date': datetime.datetime(2018, 11, 30, 19, 27, 30, 83545),\n",
       "  'video_id': 'wmxDZeh8W34'},\n",
       " {'caption': None,\n",
       "  'collection_date': datetime.datetime(2018, 11, 30, 19, 27, 33, 790283),\n",
       "  'video_id': 'PIXQdfiRZNk'},\n",
       " {'caption': \"we're gonna eat some bugs today we're gonna make giant bug sandwiches I'm Matty Matheson and I am here in the brand-new beautiful Test Kitchen at Vice headquarters of Brooklyn New York what are these bugs no not bugs or lobsters we're gonna make lobster rolls and old bay potato chips shamelessly Pat your lobsters this is lobster roll to end all lobster rolls there's talks discussions debates arguments over lobster rolls we're gonna end the war right now Connecticut Newfoundland Nova Scotia and New Brunswick Maine I'm gonna unify and we've probably made a lot of people upset because that's kind of what I do I go against the grain we have buns you need Lobster and I'm gonna coat the lobster meat in brown butter and then we're gonna make a really nice coleslaw not not like a sliced a dice coleslaw so let's begin first thing you need is a pot of boiling water and you want to make the water salty like pasta water but even like salty like ocean water so I put a lot of salt in that stir and then you got what it's boiling hot water don't dip your fingers too much in there just a little bit just dip your fingers a little bit in boiling water and make sure that it's seasoned so these are 2 pounds lobsters and we're gonna cook these for about 4 minutes a pound so about 8 minutes a lobster we're gonna just put one in Wow be careful do heads first sorry buddy ok we got 8 minutes if you don't have a timer at home going on stairway to heaven and feel your soul expand in your mouth listen to that and then your lobsters will be done kicking Led Zepplin Jimmy Page gather guys Roger Waters this is Roger Waters he's Pink Floyd so when the lobsters are done and that's a beer smell I think that's one of the greatest smells in all of the world is a fresh boiled lobster so you just put that in your ice bath I would say at least another eight minutes so maybe put on stairway to heaven again so now we have all the lobsters cooked and what you want to do is we're just gonna break the tails off and break the claws off and then we're gonna reserve these and I'll either make a stalk or I'll just freeze these and use them at a later time you can just rip the little claws everything comes off really easy this is a big boy get your knife like this go through the the end of the tail and then we're just gonna hold it and push down right here in the tail just kind of like the poop track that's where all the stuff goes this is the mmm that's the really tasty poop and now we're just gonna cut these into nice chunks just cut it up into like kind of like thumb size bits you know Maine has really good lobsters the mayor times has really good lobsters so some people put butter some people put mayonnaise some people like to I think try to make lobster salad you know they take the mayonnaise then they put everything onto this this meat is so sweet lobsters the best so use the heel of the knife we're just gonna crack the claw and then you just take it and you got claw meat and you got your little dude here that's this is like the sweetest that's for me that's for daddy clam claw clam claw clams I'm not even saying you wear an apron probably when you're doing this I'm not it's okay you smell good you go get on the subway it sound like a goddamn fisherman so there's kind of like little joints in between and you just cut in between the joints and then you just kind of break these open but you still get big beautiful pieces you got everything in there so then this is our filling for the lobster roll right there just have that in a little ice bowl and now that'll stay nice and cool while you do everything else so now we're gonna make the coleslaw it's pickles celery onion white cabbage mayonnaise and lemon juice that's it we're just going to cut up all these things the same way so we're just going to dice them I'm just gonna do probably tube dill pickles because I think the tartness and the dill is nice so once again you're just gonna cut the celery the same size as the pickles probably half an onion will be good I think and just kind of chop the cabbage so now we have the base of our slaw that we're just gonna take the mayonnaise we're just gonna incorporate like half of it at first it's just enough mayonnaise to hold it all together I might add a little bit of lemon juice okay zest of a lemon I'm gonna add just a little bit of salt bring that together this is the goddamn best coleslaw in the world I hate red cabbage coleslaw do you make red cabbage coleslaw get the away from me I don't understand it it sucks it colors it's stupid just make coleslaw with white cabbage okay palm to tear you know what that means potato these are beautiful little Yukon Golds from Prince Edward Island my grandfather is from Prince Edward Island I love you gran P God rest your soul so we're gonna peel these some people like to peel them some people don't I like to peel them chips chips chips chips chips chips secret to making really nice beautiful white crispy crunchy not brown piece of soggy potatoes is water but to keep them really crunchy and really like golden and beautiful potatoes put some vinegar in your water and that will make them very guys you're gonna need a mandolin these cost about twenty dollars you guys do really thin here we go that's the chip if you cut yourself when you're doing this it's okay cuz everyone does it if you have a guard use a guard when you're preparing this I would do a potato per guest so I'm just got my whole big old greasy hand in here moving those chips around we're washing the starch off we're getting the vinegar in there trying to get these all disconnected from each other they're pretty jammed up on each other we're at 3:40 so what we're gonna do is we're gonna just grab a handful and get a little strainer you might have to be like really chill about it and like throw them in whenever you're at home working with like a Dutch oven with oil in it always make sure that it's not full always half-full see look how it's getting it's getting close it's getting close almost had a boil over so we've let that temperature come back up to temperature temperature temperature the water goes out the steams coming up and they can just add a little more so once the tops full and then you can just take your spider this is called like a spider go find a spider and then you just kind of push them around you know when they're done they start floating then they start browning so you got your tray here with a little bit of nice paper and you don't want to get like piles of the chips you just want them to be nice and spread out these are delicate though I'm a big old greasy hand in there and you guys are all gonna be like ah see that big old greasy hand gives you perfect potato chips so now we got the old bay it's enough Oh see you're getting that smell the hot potato chip the old bay oh mama tater chips Dundee now I'm just gonna quickly get some brown butter we have one pound of unsalted butter we're gonna pretty much boil that and simmer that until it turns to brown butter as the brown butter is cooling we are going to toast our brioche buns and we'll be done with this video so we're just gonna trim the side and then we're gonna take a little butter pretty much make little grilled cheeses you just want it perfect so it toasts and then the bread inside gets nice and warm you know you just want the butter that's nice John so this is John Martin where are you from John I'm from Maine it's where lobsters from well it's from the ocean my dude Nova Scotia Pei has beautiful lobsters lobsters Northumberland Strait for life I'm gonna just make him one okay so I'm gonna put a little bit of the coleslaw and then we're gonna put the lobster and then just build it up just like nice chunks and then this is just what he calls the Newfoundland crotch I'm okay with that crotch my dad's from Newfoundland I got to pick the out of John Martin so I'm okay with that so we're just gonna do a little browned butter just just a little nuance and then we're just gonna once again coleslaw a little bit this is my version of a perfect lobster roll these old bait chips are perfect take a bite a little bit of that a Newfoundlander maritime er New Brunswick er it's delicious nice yeah it's really nice I'm really good very good I'm an Manson this is how you make lobster rolls and potato chips world peace doesn't matter where you come from matter where you're at and who you're sharing lobster rolls with god bless america don't vote for Donald Trump he's a piece of [Music]\",\n",
       "  'collection_date': datetime.datetime(2018, 11, 30, 19, 27, 37, 204014),\n",
       "  'video_id': 'nvEFb_dWJdQ'}]"
      ]
     },
     "execution_count": 10,
     "metadata": {},
     "output_type": "execute_result"
    }
   ],
   "source": [
    "caps"
   ]
  },
  {
   "cell_type": "code",
   "execution_count": null,
   "metadata": {
    "collapsed": true
   },
   "outputs": [],
   "source": []
  }
 ],
 "metadata": {
  "kernelspec": {
   "display_name": "Python 3",
   "language": "python",
   "name": "python3"
  },
  "language_info": {
   "codemirror_mode": {
    "name": "ipython",
    "version": 3
   },
   "file_extension": ".py",
   "mimetype": "text/x-python",
   "name": "python",
   "nbconvert_exporter": "python",
   "pygments_lexer": "ipython3",
   "version": "3.6.3"
  }
 },
 "nbformat": 4,
 "nbformat_minor": 2
}
