{
 "cells": [
  {
   "cell_type": "markdown",
   "metadata": {},
   "source": [
    "# Congress Youtube Links"
   ]
  },
  {
   "cell_type": "code",
   "execution_count": 57,
   "metadata": {},
   "outputs": [
    {
     "name": "stdout",
     "output_type": "stream",
     "text": [
      "Updated 2018-04-10 18:43:47.794373\n",
      "By ly501\n",
      "Using Python 3.6.5\n",
      "On Linux-3.10.0-514.10.2.el7.x86_64-x86_64-with-centos-7.3.1611-Core\n"
     ]
    }
   ],
   "source": [
    "import os\n",
    "import sys\n",
    "import json\n",
    "import time\n",
    "import datetime\n",
    "import shutil\n",
    "from collections import Counter\n",
    "\n",
    "from tqdm import tqdm_notebook as tqdm\n",
    "import pandas as pd\n",
    "\n",
    "# this is to import youtube_api from the py directory\n",
    "sys.path.append(os.path.abspath('../py')) \n",
    "import youtube_api as yt\n",
    "import s3\n",
    "from runtimestamp.runtimestamp import runtimestamp\n",
    "runtimestamp()"
   ]
  },
  {
   "cell_type": "code",
   "execution_count": 24,
   "metadata": {},
   "outputs": [],
   "source": [
    "key = os.environ.get('YT_KEY')"
   ]
  },
  {
   "cell_type": "code",
   "execution_count": 3,
   "metadata": {
    "collapsed": true
   },
   "outputs": [],
   "source": [
    "s3_path = 's3://smapp-nyu/projects/ideology_estimation/congress/'"
   ]
  },
  {
   "cell_type": "code",
   "execution_count": 4,
   "metadata": {},
   "outputs": [],
   "source": [
    "csv_files = s3.ls(s3_path + 'url_csvs/*.csv')"
   ]
  },
  {
   "cell_type": "code",
   "execution_count": 5,
   "metadata": {},
   "outputs": [
    {
     "data": {
      "text/plain": [
       "975"
      ]
     },
     "execution_count": 5,
     "metadata": {},
     "output_type": "execute_result"
    }
   ],
   "source": [
    "len(csv_files)"
   ]
  },
  {
   "cell_type": "code",
   "execution_count": 6,
   "metadata": {
    "collapsed": true
   },
   "outputs": [],
   "source": [
    "youtube = [\n",
    "    'www.youtube.com',\n",
    "    'www.youtu.be',\n",
    "    'youtube.com',\n",
    "    'youtu.be'\n",
    "]"
   ]
  },
  {
   "cell_type": "code",
   "execution_count": 129,
   "metadata": {},
   "outputs": [
    {
     "data": {
      "application/vnd.jupyter.widget-view+json": {
       "model_id": "0d12db96b0044f0382d80095207b2848"
      }
     },
     "metadata": {},
     "output_type": "display_data"
    },
    {
     "name": "stdout",
     "output_type": "stream",
     "text": [
      "\n",
      "\n"
     ]
    }
   ],
   "source": [
    "domain_counter = Counter()\n",
    "df_yt = pd.DataFrame()\n",
    "for f in tqdm(csv_files):\n",
    "    df = s3.read_csv(f)\n",
    "    df['filename'] = f\n",
    "    \n",
    "    # count domains\n",
    "    domain_counter.update(df['domain'].tolist())\n",
    "    \n",
    "    # filter out youtube\n",
    "    df_ = df[df['domain'].isin(youtube)]\n",
    "    df_yt = df_yt.append(df_, ignore_index=True)"
   ]
  },
  {
   "cell_type": "code",
   "execution_count": 63,
   "metadata": {},
   "outputs": [
    {
     "data": {
      "text/plain": [
       "[('twitter.com', 152389),\n",
       " ('www.youtube.com', 51179),\n",
       " ('www.facebook.com', 47524),\n",
       " ('1.usa.gov', 44611),\n",
       " ('www.washingtonpost.com', 19030),\n",
       " ('www.nytimes.com', 15341),\n",
       " ('thehill.com', 14885),\n",
       " ('tinyurl.com', 10587),\n",
       " ('www.politico.com', 8867),\n",
       " ('instagram.com', 7477),\n",
       " ('www.instagram.com', 6932),\n",
       " ('www.cnn.com', 6620),\n",
       " ('amp.twimg.com', 5963),\n",
       " ('www.foxnews.com', 5276),\n",
       " ('www.c-span.org', 5209),\n",
       " ('medium.com', 4906),\n",
       " ('ow.ly', 4708),\n",
       " ('go.usa.gov', 4578),\n",
       " ('www.huffingtonpost.com', 4440),\n",
       " ('www.usatoday.com', 4100),\n",
       " ('www.washingtonexaminer.com', 3748),\n",
       " ('cards.twitter.com', 3660),\n",
       " ('www.wsj.com', 3105),\n",
       " ('www.snappytv.com', 2925),\n",
       " ('abcnews.go.com', 2854),\n",
       " ('www.pscp.tv', 2772),\n",
       " ('www.latimes.com', 2704),\n",
       " ('on.wsj.com', 2676),\n",
       " ('www.vox.com', 2568),\n",
       " ('www.speaker.gov', 2483)]"
      ]
     },
     "execution_count": 63,
     "metadata": {},
     "output_type": "execute_result"
    }
   ],
   "source": [
    "domain_counter.most_common(30)"
   ]
  },
  {
   "cell_type": "code",
   "execution_count": 131,
   "metadata": {},
   "outputs": [
    {
     "data": {
      "text/plain": [
       "51319"
      ]
     },
     "execution_count": 131,
     "metadata": {},
     "output_type": "execute_result"
    }
   ],
   "source": [
    "len(df_yt)"
   ]
  },
  {
   "cell_type": "code",
   "execution_count": 204,
   "metadata": {},
   "outputs": [],
   "source": [
    "f_top_domains = '/scratch/olympus/projects/ideology_scaling/congress/top_domains.json'\n",
    "with open(f_top_domains , 'w+') as f:\n",
    "    f.write(json.dumps(domain_counter))\n",
    "shutil.chown(f_top_domains, group='smapp')"
   ]
  },
  {
   "cell_type": "code",
   "execution_count": 203,
   "metadata": {
    "collapsed": true
   },
   "outputs": [],
   "source": [
    "f_yt_raw = '/scratch/olympus/projects/ideology_scaling/congress/youtube_links_raw.csv'\n",
    "df_yt.to_csv(f_yt_raw, index=False)\n",
    "shutil.chown(f_yt_raw, group='smapp')"
   ]
  },
  {
   "cell_type": "code",
   "execution_count": 138,
   "metadata": {},
   "outputs": [
    {
     "data": {
      "text/html": [
       "<div>\n",
       "<table border=\"1\" class=\"dataframe\">\n",
       "  <thead>\n",
       "    <tr style=\"text-align: right;\">\n",
       "      <th></th>\n",
       "      <th>url</th>\n",
       "      <th>raw_url</th>\n",
       "      <th>domain</th>\n",
       "      <th>unshortened</th>\n",
       "      <th>tries</th>\n",
       "      <th>tweet_id</th>\n",
       "      <th>created_at</th>\n",
       "      <th>filename</th>\n",
       "    </tr>\n",
       "  </thead>\n",
       "  <tbody>\n",
       "    <tr>\n",
       "      <th>0</th>\n",
       "      <td>https://www.youtube.com/watch?v=Ne4tGG9-00A</td>\n",
       "      <td>https://www.youtube.com/watch?v=Ne4tGG9-00A</td>\n",
       "      <td>www.youtube.com</td>\n",
       "      <td>1.0</td>\n",
       "      <td>0.0</td>\n",
       "      <td>9.714021e+17</td>\n",
       "      <td>Wed Mar 07 15:08:06 +0000 2018</td>\n",
       "      <td>s3://smapp-nyu/projects/ideology_estimation/co...</td>\n",
       "    </tr>\n",
       "    <tr>\n",
       "      <th>1</th>\n",
       "      <td>https://www.youtube.com/watch?v=Ne4tGG9-00A</td>\n",
       "      <td>https://www.youtube.com/watch?v=Ne4tGG9-00A</td>\n",
       "      <td>www.youtube.com</td>\n",
       "      <td>1.0</td>\n",
       "      <td>0.0</td>\n",
       "      <td>9.710465e+17</td>\n",
       "      <td>Tue Mar 06 15:35:11 +0000 2018</td>\n",
       "      <td>s3://smapp-nyu/projects/ideology_estimation/co...</td>\n",
       "    </tr>\n",
       "  </tbody>\n",
       "</table>\n",
       "</div>"
      ],
      "text/plain": [
       "                                           url  \\\n",
       "0  https://www.youtube.com/watch?v=Ne4tGG9-00A   \n",
       "1  https://www.youtube.com/watch?v=Ne4tGG9-00A   \n",
       "\n",
       "                                       raw_url           domain  unshortened  \\\n",
       "0  https://www.youtube.com/watch?v=Ne4tGG9-00A  www.youtube.com          1.0   \n",
       "1  https://www.youtube.com/watch?v=Ne4tGG9-00A  www.youtube.com          1.0   \n",
       "\n",
       "   tries      tweet_id                      created_at  \\\n",
       "0    0.0  9.714021e+17  Wed Mar 07 15:08:06 +0000 2018   \n",
       "1    0.0  9.710465e+17  Tue Mar 06 15:35:11 +0000 2018   \n",
       "\n",
       "                                            filename  \n",
       "0  s3://smapp-nyu/projects/ideology_estimation/co...  \n",
       "1  s3://smapp-nyu/projects/ideology_estimation/co...  "
      ]
     },
     "execution_count": 138,
     "metadata": {},
     "output_type": "execute_result"
    }
   ],
   "source": [
    "df_yt.head(2)"
   ]
  },
  {
   "cell_type": "markdown",
   "metadata": {},
   "source": [
    "Let's strip the video IDs from the urls and get a list of unique video IDS."
   ]
  },
  {
   "cell_type": "code",
   "execution_count": 154,
   "metadata": {},
   "outputs": [],
   "source": [
    "df_yt['yt_id'] = df_yt['url'].apply(yt.strip_video_id_from_url)"
   ]
  },
  {
   "cell_type": "code",
   "execution_count": 155,
   "metadata": {
    "collapsed": true
   },
   "outputs": [],
   "source": [
    "video_ids = df_yt['yt_id'].unique().tolist()"
   ]
  },
  {
   "cell_type": "markdown",
   "metadata": {},
   "source": [
    "How many videos do we need to get metadata for?"
   ]
  },
  {
   "cell_type": "code",
   "execution_count": 156,
   "metadata": {},
   "outputs": [
    {
     "data": {
      "text/plain": [
       "39137"
      ]
     },
     "execution_count": 156,
     "metadata": {},
     "output_type": "execute_result"
    }
   ],
   "source": [
    "len(video_ids)"
   ]
  },
  {
   "cell_type": "code",
   "execution_count": 157,
   "metadata": {},
   "outputs": [
    {
     "data": {
      "text/plain": [
       "'Ne4tGG9-00A'"
      ]
     },
     "execution_count": 157,
     "metadata": {},
     "output_type": "execute_result"
    }
   ],
   "source": [
    "video_ids[0]"
   ]
  },
  {
   "cell_type": "markdown",
   "metadata": {},
   "source": [
    "We can get the metadata in chunks of 50 videos using `yt.get_video_metadata()`."
   ]
  },
  {
   "cell_type": "code",
   "execution_count": 65,
   "metadata": {
    "collapsed": true
   },
   "outputs": [],
   "source": [
    "def chunks(list_, n):\n",
    "    \"\"\"Yield successive n-sized chunks from l.\"\"\"\n",
    "    for i in range(0, len(list_), n):\n",
    "        yield list_[i:i + n]"
   ]
  },
  {
   "cell_type": "code",
   "execution_count": 158,
   "metadata": {},
   "outputs": [
    {
     "data": {
      "application/vnd.jupyter.widget-view+json": {
       "model_id": "96de37ee6afa4491a0feb4f43a6f6a8d"
      }
     },
     "metadata": {},
     "output_type": "display_data"
    },
    {
     "name": "stdout",
     "output_type": "stream",
     "text": [
      "\n"
     ]
    }
   ],
   "source": [
    "meta = []\n",
    "for chunk in tqdm(chunks(video_ids, 50)):\n",
    "    data = yt.get_video_metadata(chunk, key, verbose=1)\n",
    "    meta.extend(data)\n",
    "    time.sleep(.1)"
   ]
  },
  {
   "cell_type": "markdown",
   "metadata": {},
   "source": [
    "Let's convert the list of dictionaries into a Pandas dataframe"
   ]
  },
  {
   "cell_type": "code",
   "execution_count": 160,
   "metadata": {
    "collapsed": true
   },
   "outputs": [],
   "source": [
    "df_yt_resolved = pd.DataFrame(meta)"
   ]
  },
  {
   "cell_type": "code",
   "execution_count": 162,
   "metadata": {},
   "outputs": [
    {
     "data": {
      "text/html": [
       "<div>\n",
       "<table border=\"1\" class=\"dataframe\">\n",
       "  <thead>\n",
       "    <tr style=\"text-align: right;\">\n",
       "      <th></th>\n",
       "      <th>video_id</th>\n",
       "      <th>channel_title</th>\n",
       "      <th>channel_id</th>\n",
       "      <th>video_publish_date</th>\n",
       "      <th>video_title</th>\n",
       "      <th>video_description</th>\n",
       "      <th>video_category</th>\n",
       "      <th>video_view_count</th>\n",
       "      <th>video_comment_count</th>\n",
       "      <th>video_like_count</th>\n",
       "      <th>video_dislike_count</th>\n",
       "      <th>video_thumbnail</th>\n",
       "      <th>collection_date</th>\n",
       "    </tr>\n",
       "  </thead>\n",
       "  <tbody>\n",
       "    <tr>\n",
       "      <th>0</th>\n",
       "      <td>Ne4tGG9-00A</td>\n",
       "      <td>Bruce Rauner</td>\n",
       "      <td>UCrzbsTXJDuIPwaDk7aTKlww</td>\n",
       "      <td>2018-03-05 15:56:15</td>\n",
       "      <td>Governor Rauner Joins Fox &amp; Friends | Bruce Ra...</td>\n",
       "      <td>SUBSCRIBE for the latest news and updates from...</td>\n",
       "      <td>25</td>\n",
       "      <td>656</td>\n",
       "      <td>None</td>\n",
       "      <td>9</td>\n",
       "      <td>2</td>\n",
       "      <td>https://i.ytimg.com/vi/Ne4tGG9-00A/hqdefault.jpg</td>\n",
       "      <td>2018-04-10 12:27:25.952564</td>\n",
       "    </tr>\n",
       "    <tr>\n",
       "      <th>1</th>\n",
       "      <td>bdkAd5yiPI0</td>\n",
       "      <td>Bruce Rauner</td>\n",
       "      <td>UCrzbsTXJDuIPwaDk7aTKlww</td>\n",
       "      <td>2018-02-26 22:13:18</td>\n",
       "      <td>Governor Rauner Discusses Janus v. AFSCME</td>\n",
       "      <td>SUBSCRIBE for the latest news and updates from...</td>\n",
       "      <td>25</td>\n",
       "      <td>1497</td>\n",
       "      <td>None</td>\n",
       "      <td>27</td>\n",
       "      <td>18</td>\n",
       "      <td>https://i.ytimg.com/vi/bdkAd5yiPI0/hqdefault.jpg</td>\n",
       "      <td>2018-04-10 12:27:25.952605</td>\n",
       "    </tr>\n",
       "  </tbody>\n",
       "</table>\n",
       "</div>"
      ],
      "text/plain": [
       "      video_id channel_title                channel_id  video_publish_date  \\\n",
       "0  Ne4tGG9-00A  Bruce Rauner  UCrzbsTXJDuIPwaDk7aTKlww 2018-03-05 15:56:15   \n",
       "1  bdkAd5yiPI0  Bruce Rauner  UCrzbsTXJDuIPwaDk7aTKlww 2018-02-26 22:13:18   \n",
       "\n",
       "                                         video_title  \\\n",
       "0  Governor Rauner Joins Fox & Friends | Bruce Ra...   \n",
       "1          Governor Rauner Discusses Janus v. AFSCME   \n",
       "\n",
       "                                   video_description video_category  \\\n",
       "0  SUBSCRIBE for the latest news and updates from...             25   \n",
       "1  SUBSCRIBE for the latest news and updates from...             25   \n",
       "\n",
       "  video_view_count video_comment_count video_like_count video_dislike_count  \\\n",
       "0              656                None                9                   2   \n",
       "1             1497                None               27                  18   \n",
       "\n",
       "                                    video_thumbnail            collection_date  \n",
       "0  https://i.ytimg.com/vi/Ne4tGG9-00A/hqdefault.jpg 2018-04-10 12:27:25.952564  \n",
       "1  https://i.ytimg.com/vi/bdkAd5yiPI0/hqdefault.jpg 2018-04-10 12:27:25.952605  "
      ]
     },
     "execution_count": 162,
     "metadata": {},
     "output_type": "execute_result"
    }
   ],
   "source": [
    "df_yt_resolved.head(2)"
   ]
  },
  {
   "cell_type": "markdown",
   "metadata": {},
   "source": [
    "We can save this to disk:"
   ]
  },
  {
   "cell_type": "code",
   "execution_count": 202,
   "metadata": {
    "collapsed": true
   },
   "outputs": [],
   "source": [
    "f_yt_resolved = '/scratch/olympus/projects/ideology_scaling/congress/youtube_links_resolved.tsv'\n",
    "df_yt_resolved.to_csv(f_yt_resolved, index=False, sep='\\t')\n",
    "shutil.chown(f_yt_resolved, group='smapp')"
   ]
  },
  {
   "cell_type": "markdown",
   "metadata": {},
   "source": [
    "and work with it later..."
   ]
  },
  {
   "cell_type": "code",
   "execution_count": 7,
   "metadata": {
    "collapsed": true
   },
   "outputs": [],
   "source": [
    "f_yt_resolved = '/scratch/olympus/projects/ideology_scaling/congress/youtube_links_resolved.tsv'\n",
    "df_yt_resolved = pd.read_csv(f_yt_resolved, sep='\\t')\n",
    "\n",
    "f_yt_raw = '/scratch/olympus/projects/ideology_scaling/congress/youtube_links_raw.csv'\n",
    "df_yt = pd.read_csv(f_yt_raw)"
   ]
  },
  {
   "cell_type": "markdown",
   "metadata": {},
   "source": [
    "Note these are only unique videos. Let's join it into all the Youtube links shared."
   ]
  },
  {
   "cell_type": "code",
   "execution_count": 8,
   "metadata": {},
   "outputs": [],
   "source": [
    "df_link_yt = df_yt.merge(df_yt_resolved, left_on = 'yt_id', right_on='video_id', how='left')"
   ]
  },
  {
   "cell_type": "markdown",
   "metadata": {},
   "source": [
    "What are the top shared channels for all of Congress?"
   ]
  },
  {
   "cell_type": "code",
   "execution_count": 25,
   "metadata": {},
   "outputs": [
    {
     "data": {
      "text/plain": [
       "House Republicans                                 561\n",
       "SenateDemocrats                                   437\n",
       "Homeland Security Committee                       361\n",
       "Bevin-Hampton Administration                      331\n",
       "House Democrats                                   318\n",
       "doggett                                           313\n",
       "Senate Majority Leader Mitch McConnell            312\n",
       "Senator Enzi                                      306\n",
       "senatormikelee                                    294\n",
       "barrassowyo                                       290\n",
       "GohmertTX01                                       282\n",
       "oversightandreform                                251\n",
       "Senator Shelley Moore Capito                      227\n",
       "Ways and Means Committee                          226\n",
       "U.S. House Armed Services Committee               218\n",
       "RepDianeBlack                                     218\n",
       "RepMikeKelly                                      216\n",
       "Nancy Pelosi                                      216\n",
       "The Obama White House                             215\n",
       "Rep. Curbelo                                      214\n",
       "NRCC Communications                               209\n",
       "Rep. Tom Emmer                                    205\n",
       "Rep. Erik Paulsen                                 201\n",
       "Doug Collins                                      198\n",
       "House Committee on Education and the Workforce    188\n",
       "GovernorRickScott                                 183\n",
       "House Foreign Affairs Committee                   183\n",
       "Rep. Hakeem Jeffries                              179\n",
       "Speaker Paul Ryan                                 178\n",
       "Rep. Bruce Westerman                              169\n",
       "Name: channel_title, dtype: int64"
      ]
     },
     "execution_count": 25,
     "metadata": {},
     "output_type": "execute_result"
    }
   ],
   "source": [
    "df_link_yt['channel_title'].value_counts().head(30)"
   ]
  },
  {
   "cell_type": "markdown",
   "metadata": {},
   "source": [
    "## What are the most shared videos?"
   ]
  },
  {
   "cell_type": "code",
   "execution_count": 9,
   "metadata": {
    "scrolled": true
   },
   "outputs": [
    {
     "data": {
      "text/plain": [
       "Dems Join Refugees & Immigrants Outside SCOTUS To Demand POTUS Trump Reverse Exec Orders             74\n",
       "Jimmy Kimmel Reveals Details of His Son’s Birth & Heart Disease                                      74\n",
       "#NotOneCent for Iran Until it Compensates its Victims                                                73\n",
       "Comeback                                                                                             46\n",
       "Congresswoman Johnson gives moving House floor speech on Dallas Shootings                            31\n",
       "House Democrats Hold Hearing: 'The Flint Water Crisis: Lessons for Protecting America's Children'    30\n",
       "The US Constitution and Donald Trump's Conflicts of Interest                                         30\n",
       "#EndGunViolence                                                                                      28\n",
       "Tesla's Solar Facility is Part of Hawaii's Goal For Energy Independence (HBO)                        26\n",
       "Make It In America: What's Next?                                                                     26\n",
       "Name: video_title, dtype: int64"
      ]
     },
     "execution_count": 9,
     "metadata": {},
     "output_type": "execute_result"
    }
   ],
   "source": [
    "df_link_yt['video_title'].value_counts().head(10)"
   ]
  },
  {
   "cell_type": "markdown",
   "metadata": {},
   "source": [
    "## What are the categories of videos being sent?"
   ]
  },
  {
   "cell_type": "code",
   "execution_count": 124,
   "metadata": {},
   "outputs": [],
   "source": [
    "with open('../data/categories.json', 'r') as f:\n",
    "    video_categories = json.load(f)"
   ]
  },
  {
   "cell_type": "code",
   "execution_count": 126,
   "metadata": {},
   "outputs": [
    {
     "data": {
      "text/plain": [
       "News & Politics          30161\n",
       "People & Blogs            6135\n",
       "Film & Animation          1083\n",
       "Nonprofits & Activism     1012\n",
       "Entertainment              867\n",
       "Education                  678\n",
       "Science & Technology       382\n",
       "Comedy                     377\n",
       "Music                      228\n",
       "Sports                     128\n",
       "Travel & Events             95\n",
       "Autos & Vehicles            84\n",
       "Howto & Style               47\n",
       "Pets & Animals              18\n",
       "Gaming                      10\n",
       "Shows                        2\n",
       "Trailers                     1\n",
       "Name: video_category, dtype: int64"
      ]
     },
     "execution_count": 126,
     "metadata": {},
     "output_type": "execute_result"
    }
   ],
   "source": [
    "df_link_yt['video_category'].replace(video_categories).value_counts()"
   ]
  },
  {
   "cell_type": "markdown",
   "metadata": {},
   "source": [
    "## Who is sharing what?"
   ]
  },
  {
   "cell_type": "code",
   "execution_count": 10,
   "metadata": {
    "collapsed": true
   },
   "outputs": [],
   "source": [
    "def get_user_id_from_file(f):\n",
    "    return f.split('url_csvs/')[-1].replace('_urls.csv', '')\n",
    "df_link_yt['twitter_id'] = df_link_yt['filename'].apply(get_user_id_from_file)"
   ]
  },
  {
   "cell_type": "code",
   "execution_count": 26,
   "metadata": {},
   "outputs": [
    {
     "data": {
      "text/plain": [
       "array(['1055907624', '1058520120', '1058717720', '1060984272',\n",
       "       '1061029050', '1068499286', '1077121945', '1089859058',\n",
       "       '109287731', '111635527', '111635980', '1135486501', '1155335864',\n",
       "       '1222257180', '133028836', '140519774', '1410590874', '14676022',\n",
       "       '14984637', '153944899', '15764644', '15808765', '168502762',\n",
       "       '171598736', '17494010', '17907578', '18137749', '18674498',\n",
       "       '18909919', '22523087', '232268199', '242836537', '242892689',\n",
       "       '2461810448', '249348006', '25781141', '278005891', '28599820',\n",
       "       '2916086925', '29442313', '2968007206', '2968451607', '3018670151',\n",
       "       '3023272478', '30354991', '3044993235', '325162736', '38254095',\n",
       "       '415117361', '4304448314', '432676344', '43963249', '47747074',\n",
       "       '50452197', '72198806', '80612021', '813286', '814179031956488192',\n",
       "       '816181091673448448', '817050219007328258', '818713465653051392',\n",
       "       '87510313', '90639372', '942156122', '946549322', '995193054'],\n",
       "      dtype=object)"
      ]
     },
     "execution_count": 26,
     "metadata": {},
     "output_type": "execute_result"
    }
   ],
   "source": [
    "v_id = df_link_yt['video_id'].value_counts().index[1]\n",
    "df_link_yt[df_link_yt['video_id'] == v_id]['twitter_id'].unique()"
   ]
  },
  {
   "cell_type": "markdown",
   "metadata": {},
   "source": [
    "## Analyzing the Most Shared Channel"
   ]
  },
  {
   "cell_type": "code",
   "execution_count": 30,
   "metadata": {},
   "outputs": [],
   "source": [
    "top_50_channels = df_link_yt['channel_id'].value_counts().head(50).index\n",
    "channel_id = top_50_channels[1]"
   ]
  },
  {
   "cell_type": "code",
   "execution_count": 40,
   "metadata": {},
   "outputs": [
    {
     "data": {
      "text/plain": [
       "OrderedDict([('id', 'UCpgILFSGxY-9mQR79fLSt2A'),\n",
       "             ('title', 'SenateDemocrats'),\n",
       "             ('publish_date', datetime.datetime(2008, 8, 11, 19, 14, 4)),\n",
       "             ('keywords',\n",
       "              'Senate Senator Democrat Democrats Democratic Leadership Caucus Majority Leader Harry Reid Durbin Schumer Murray Stabenow Congress government legislative legislation bill federal'),\n",
       "             ('description',\n",
       "              'Video updates from Senate Democratic Leader Chuck Schumer and Democrats in the United States Senate.'),\n",
       "             ('view_count', '2186695'),\n",
       "             ('video_count', '1193'),\n",
       "             ('subscription_count', '4275'),\n",
       "             ('playlist_id_likes', None),\n",
       "             ('playlist_id_uploads', 'UUpgILFSGxY-9mQR79fLSt2A'),\n",
       "             ('topic_ids', '[\"/m/05qt0\", \"/m/05qt0\", \"/m/098wr\"]'),\n",
       "             ('collection_date',\n",
       "              datetime.datetime(2018, 4, 10, 18, 41, 0, 866410))])"
      ]
     },
     "execution_count": 40,
     "metadata": {},
     "output_type": "execute_result"
    }
   ],
   "source": [
    "yt.get_channel_metadata(channel_id, key)"
   ]
  },
  {
   "cell_type": "markdown",
   "metadata": {},
   "source": [
    "## Building Relationships\n",
    "1. Channels that the Channel is subscribed to\n",
    "2. Channels that the Channel features\n",
    "3. Channels that the Channel links to in Playlists\n",
    "4. Channels that the Channels links to in Video Descriptions"
   ]
  },
  {
   "cell_type": "markdown",
   "metadata": {},
   "source": [
    "## 1"
   ]
  },
  {
   "cell_type": "code",
   "execution_count": 42,
   "metadata": {},
   "outputs": [
    {
     "name": "stderr",
     "output_type": "stream",
     "text": [
      "/home/ly501/smapprepos/scrapers/youtube/py/youtube_api_utils.py:67: UserWarning: Viewing subscriptions are forbidden for this user!\n",
      "  warnings.warn(\"Viewing subscriptions are forbidden for this user!\")\n"
     ]
    },
    {
     "data": {
      "text/plain": [
       "[]"
      ]
     },
     "execution_count": 42,
     "metadata": {},
     "output_type": "execute_result"
    }
   ],
   "source": [
    "yt.get_subscriptions(channel_id, key)"
   ]
  },
  {
   "cell_type": "markdown",
   "metadata": {},
   "source": [
    "## 2"
   ]
  },
  {
   "cell_type": "code",
   "execution_count": 43,
   "metadata": {},
   "outputs": [
    {
     "data": {
      "text/plain": [
       "{'UCpgILFSGxY-9mQR79fLSt2A': ['UC-ABttxh8uQv_10qmwGaidw',\n",
       "  'UCb8jq3TvQ3AzKsexhWfFLoA',\n",
       "  'UCTH9zV8Imw09J5bOoTR18_A',\n",
       "  'UCD_DaKNac0Ta-2PeHuoQ1uA',\n",
       "  'UC6FlymqNS1VettnVZa7goPA',\n",
       "  'UCYRWRvUxtjaHnFMCbdd94tg',\n",
       "  'UCbcEa40PIFpLpdDe06n3F3Q']}"
      ]
     },
     "execution_count": 43,
     "metadata": {},
     "output_type": "execute_result"
    }
   ],
   "source": [
    "yt.get_featured_channels(channel_id, key)"
   ]
  },
  {
   "cell_type": "markdown",
   "metadata": {},
   "source": [
    "## 3"
   ]
  },
  {
   "cell_type": "code",
   "execution_count": 51,
   "metadata": {},
   "outputs": [
    {
     "data": {
      "text/html": [
       "<div>\n",
       "<table border=\"1\" class=\"dataframe\">\n",
       "  <thead>\n",
       "    <tr style=\"text-align: right;\">\n",
       "      <th></th>\n",
       "      <th>playlist_name</th>\n",
       "      <th>playlist_id</th>\n",
       "      <th>playlist_publish_date</th>\n",
       "      <th>playlist_n_videos</th>\n",
       "      <th>channel_id</th>\n",
       "      <th>channel_name</th>\n",
       "    </tr>\n",
       "  </thead>\n",
       "  <tbody>\n",
       "    <tr>\n",
       "      <th>0</th>\n",
       "      <td>#SaveTheInternet</td>\n",
       "      <td>PLrXlgSrg2WETFdmh1gwGI_YiSaq6_i2_u</td>\n",
       "      <td>2018-02-26 16:53:17</td>\n",
       "      <td>4</td>\n",
       "      <td>UCpgILFSGxY-9mQR79fLSt2A</td>\n",
       "      <td>SenateDemocrats</td>\n",
       "    </tr>\n",
       "    <tr>\n",
       "      <th>1</th>\n",
       "      <td>#AmericaSpeaksOut</td>\n",
       "      <td>PLrXlgSrg2WERe9DxAloPQtcDPEyp_6qXC</td>\n",
       "      <td>2017-06-16 23:52:16</td>\n",
       "      <td>31</td>\n",
       "      <td>UCpgILFSGxY-9mQR79fLSt2A</td>\n",
       "      <td>SenateDemocrats</td>\n",
       "    </tr>\n",
       "  </tbody>\n",
       "</table>\n",
       "</div>"
      ],
      "text/plain": [
       "       playlist_name                         playlist_id  \\\n",
       "0   #SaveTheInternet  PLrXlgSrg2WETFdmh1gwGI_YiSaq6_i2_u   \n",
       "1  #AmericaSpeaksOut  PLrXlgSrg2WERe9DxAloPQtcDPEyp_6qXC   \n",
       "\n",
       "  playlist_publish_date  playlist_n_videos                channel_id  \\\n",
       "0   2018-02-26 16:53:17                  4  UCpgILFSGxY-9mQR79fLSt2A   \n",
       "1   2017-06-16 23:52:16                 31  UCpgILFSGxY-9mQR79fLSt2A   \n",
       "\n",
       "      channel_name  \n",
       "0  SenateDemocrats  \n",
       "1  SenateDemocrats  "
      ]
     },
     "execution_count": 51,
     "metadata": {},
     "output_type": "execute_result"
    }
   ],
   "source": [
    "playlists = yt.get_playlists(channel_id, key)\n",
    "df_playlists = pd.DataFrame(playlists)\n",
    "df_playlists.head(2)"
   ]
  },
  {
   "cell_type": "code",
   "execution_count": 48,
   "metadata": {},
   "outputs": [
    {
     "data": {
      "application/vnd.jupyter.widget-view+json": {
       "model_id": "485784e84bab4bb3ab29e542eb8690b6"
      }
     },
     "metadata": {},
     "output_type": "display_data"
    },
    {
     "name": "stdout",
     "output_type": "stream",
     "text": [
      "\n"
     ]
    }
   ],
   "source": [
    "df_playlist_videos = pd.DataFrame()\n",
    "for playlist in tqdm(df_playlists['playlist_id'].tolist()):\n",
    "    playlist = yt.get_video_urls_from_playlist_id(playlist, key, verbose=0)\n",
    "    df_ = pd.DataFrame(playlist)\n",
    "    df_playlist_videos = df_playlist_videos.append(df_, ignore_index=False)"
   ]
  },
  {
   "cell_type": "code",
   "execution_count": 64,
   "metadata": {},
   "outputs": [
    {
     "data": {
      "text/html": [
       "<div>\n",
       "<table border=\"1\" class=\"dataframe\">\n",
       "  <thead>\n",
       "    <tr style=\"text-align: right;\">\n",
       "      <th></th>\n",
       "      <th>publish_date</th>\n",
       "      <th>video_id</th>\n",
       "      <th>channel_id</th>\n",
       "    </tr>\n",
       "  </thead>\n",
       "  <tbody>\n",
       "    <tr>\n",
       "      <th>0</th>\n",
       "      <td>2018-02-26 16:55:57</td>\n",
       "      <td>9l_GgulneqM</td>\n",
       "      <td>UCpgILFSGxY-9mQR79fLSt2A</td>\n",
       "    </tr>\n",
       "    <tr>\n",
       "      <th>1</th>\n",
       "      <td>2018-02-26 23:38:54</td>\n",
       "      <td>ltzy5vRmN8Q</td>\n",
       "      <td>UCpgILFSGxY-9mQR79fLSt2A</td>\n",
       "    </tr>\n",
       "  </tbody>\n",
       "</table>\n",
       "</div>"
      ],
      "text/plain": [
       "         publish_date     video_id                channel_id\n",
       "0 2018-02-26 16:55:57  9l_GgulneqM  UCpgILFSGxY-9mQR79fLSt2A\n",
       "1 2018-02-26 23:38:54  ltzy5vRmN8Q  UCpgILFSGxY-9mQR79fLSt2A"
      ]
     },
     "execution_count": 64,
     "metadata": {},
     "output_type": "execute_result"
    }
   ],
   "source": [
    "df_playlist_videos.head(2)"
   ]
  },
  {
   "cell_type": "code",
   "execution_count": 50,
   "metadata": {},
   "outputs": [
    {
     "data": {
      "text/plain": [
       "array(['UCpgILFSGxY-9mQR79fLSt2A'], dtype=object)"
      ]
     },
     "execution_count": 50,
     "metadata": {},
     "output_type": "execute_result"
    }
   ],
   "source": [
    "df_playlist_videos['channel_id'].unique()"
   ]
  },
  {
   "cell_type": "markdown",
   "metadata": {},
   "source": [
    "## 4"
   ]
  },
  {
   "cell_type": "code",
   "execution_count": 57,
   "metadata": {},
   "outputs": [],
   "source": [
    "import re\n",
    "import itertools\n",
    "from urllib.parse import urlparse"
   ]
  },
  {
   "cell_type": "code",
   "execution_count": 58,
   "metadata": {},
   "outputs": [],
   "source": [
    "def get_link(tweet):\n",
    "    '''\n",
    "    Returns a generator containing tweet metadata about media.\n",
    "    '''\n",
    "        \n",
    "    row = {\n",
    "        'channel_id': tweet['channel_id'],\n",
    "        'video_id': tweet['video_id'],\n",
    "        'video_publish_date': tweet['video_publish_date'],\n",
    "        'video_description' : str(tweet['video_description'])\n",
    "    }\n",
    "    \n",
    "    if row['video_description']: \n",
    "        list_urls = re.findall(\"(?P<url>https?://[^\\s]+)\", row['video_description'])\n",
    "        if list_urls:\n",
    "            for url in list_urls:\n",
    "                r = row.copy()\n",
    "                r['link.url_long'] = url\n",
    "\n",
    "                if r['link.url_long']:\n",
    "                    r['link.domain'] = urlparse(r['link.url_long']).netloc.lower()\n",
    "                    yield r"
   ]
  },
  {
   "cell_type": "code",
   "execution_count": 59,
   "metadata": {},
   "outputs": [],
   "source": [
    "descriptions = df_link_yt['video_description'].tolist()"
   ]
  },
  {
   "cell_type": "code",
   "execution_count": 60,
   "metadata": {},
   "outputs": [
    {
     "data": {
      "application/vnd.jupyter.widget-view+json": {
       "model_id": "df743e795ce44076a9a6a7d9265d72ef"
      }
     },
     "metadata": {},
     "output_type": "display_data"
    },
    {
     "name": "stdout",
     "output_type": "stream",
     "text": [
      "\n"
     ]
    }
   ],
   "source": [
    "df_links = pd.DataFrame(\n",
    "    list(\n",
    "        itertools.chain.from_iterable(\n",
    "            [ get_link(tweet) for i, tweet in tqdm(df_link_yt.iterrows()) ]\n",
    "        )\n",
    "    )\n",
    ")"
   ]
  },
  {
   "cell_type": "code",
   "execution_count": 61,
   "metadata": {},
   "outputs": [
    {
     "data": {
      "text/plain": [
       "14380"
      ]
     },
     "execution_count": 61,
     "metadata": {},
     "output_type": "execute_result"
    }
   ],
   "source": [
    "len(df_links)"
   ]
  },
  {
   "cell_type": "markdown",
   "metadata": {},
   "source": [
    "## The Most Shared Domains among Youtube Descriptions"
   ]
  },
  {
   "cell_type": "code",
   "execution_count": 70,
   "metadata": {},
   "outputs": [
    {
     "data": {
      "text/plain": [
       "bit.ly                      1898\n",
       "twitter.com                 1167\n",
       "www.facebook.com            1076\n",
       "www.youtube.com              841\n",
       "rub.io                       429\n",
       "facebook.com                 371\n",
       "youtu.be                     363\n",
       "hrc.io                       318\n",
       "instagram.com                309\n",
       "www.instagram.com            252\n",
       "oversight.house.gov          232\n",
       "www.twitter.com              223\n",
       "goo.gl                       213\n",
       "judiciary.house.gov          184\n",
       "smarturl.it                  167\n",
       "www.manchin.senate.gov       150\n",
       "plus.google.com              130\n",
       "ofa.bo                       124\n",
       "www.speaker.gov              122\n",
       "on.msnbc.com                  98\n",
       "1.usa.gov                     97\n",
       "mast.house.gov                96\n",
       "www.wolfforpa.com             81\n",
       "nbcnews.to                    78\n",
       "youtube.com                   72\n",
       "www.reaganfoundation.org      70\n",
       "kuster.house.gov              68\n",
       "walberg.house.gov             60\n",
       "coons.senate.gov              57\n",
       "www.gop.com                   55\n",
       "science.house.gov             55\n",
       "foreignaffairs.house.gov      50\n",
       "on.fb.me                      49\n",
       "www.hillaryclinton.com        47\n",
       "l.prageru.com                 43\n",
       "fox.tv                        42\n",
       "www.burrforsenate.com         40\n",
       "gop.gov                       39\n",
       "www.lee.senate.gov            36\n",
       "my.barackobama.com            35\n",
       "Name: link.domain, dtype: int64"
      ]
     },
     "execution_count": 70,
     "metadata": {},
     "output_type": "execute_result"
    }
   ],
   "source": [
    "df_links['link.domain'].value_counts().head(40)"
   ]
  },
  {
   "cell_type": "markdown",
   "metadata": {},
   "source": [
    "## TODO\n",
    "How do we go go Raw Youtube links (containing subscribe pages, users, channels, custom URLS) to links?"
   ]
  },
  {
   "cell_type": "code",
   "execution_count": 18,
   "metadata": {
    "scrolled": true
   },
   "outputs": [],
   "source": [
    "# df_links[df_links['link.domain'].isin(youtube)]['link.url_long'].unique()"
   ]
  },
  {
   "cell_type": "code",
   "execution_count": 17,
   "metadata": {},
   "outputs": [
    {
     "data": {
      "text/plain": [
       "'UCT2X19JJaJGUN7mrYuImANQ'"
      ]
     },
     "execution_count": 17,
     "metadata": {},
     "output_type": "execute_result"
    }
   ],
   "source": [
    "yt.get_channel_id_from_custom_url('http://www.youtube.com/user/americasgottalent')"
   ]
  },
  {
   "cell_type": "code",
   "execution_count": null,
   "metadata": {
    "collapsed": true
   },
   "outputs": [],
   "source": [
    "{\n",
    "    'video_url' : 'http://www.youtube.com/watch?v=A0nASbOg3B8',\n",
    "    'user' : 'http://www.youtube.com/user/GoldenGlobes',\n",
    "    'custom' : 'http://www.youtube.com/TYTPolitics',\n",
    "    'embed_video_url' : 'https://www.youtube.com/embed/N8tkueAEVTs',\n",
    "    'subscriber_hub' : 'http://www.youtube.com/subscription_center?add_user=telegraphtv',\n",
    "    'custom_channel_also' : 'https://www.youtube.com/c/funnyordie?sub_confirmation=1',\n",
    "    'playlist' : 'https://www.youtube.com/playlist?list=PLnwt1fUa-EVgihKJ_26XtMdmGDOmABAAa'\n",
    "    \n",
    "}"
   ]
  }
 ],
 "metadata": {
  "kernelspec": {
   "display_name": "Python 3",
   "language": "python",
   "name": "python3"
  },
  "language_info": {
   "codemirror_mode": {
    "name": "ipython",
    "version": 3
   },
   "file_extension": ".py",
   "mimetype": "text/x-python",
   "name": "python",
   "nbconvert_exporter": "python",
   "pygments_lexer": "ipython3",
   "version": "3.6.5"
  }
 },
 "nbformat": 4,
 "nbformat_minor": 2
}
