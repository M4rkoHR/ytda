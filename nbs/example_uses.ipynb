{
 "cells": [
  {
   "cell_type": "markdown",
   "metadata": {},
   "source": [
    "# Accessing the Youtube API\n",
    "This Notebook explores convenience functions for accessing the Youtube API.\n",
    "Writen by Leon Yin and Megan Brown"
   ]
  },
  {
   "cell_type": "code",
   "execution_count": 1,
   "metadata": {},
   "outputs": [
    {
     "name": "stdout",
     "output_type": "stream",
     "text": [
      "Updated 2018-09-27 17:55:47.834139\n",
      "By ly501\n",
      "Using Python 3.6.5\n",
      "On Linux-3.10.0-514.10.2.el7.x86_64-x86_64-with-centos-7.3.1611-Core\n"
     ]
    }
   ],
   "source": [
    "import os\n",
    "import sys\n",
    "import json\n",
    "import datetime\n",
    "import pandas as pd\n",
    "\n",
    "# this is to import youtube_api from the py directory\n",
    "sys.path.append(os.path.abspath('../')) \n",
    "import youtube_api\n",
    "from youtube_api import youtube_api_utils as utils\n",
    "\n",
    "from runtimestamp.runtimestamp import runtimestamp\n",
    "runtimestamp()"
   ]
  },
  {
   "cell_type": "code",
   "execution_count": 2,
   "metadata": {
    "collapsed": true
   },
   "outputs": [],
   "source": [
    "key = os.environ.get('YT_KEY')"
   ]
  },
  {
   "cell_type": "markdown",
   "metadata": {},
   "source": [
    "We can go from Username to `channel_id`. `channel_id` is required to get uploaded videos, user metadata, and relationships like subscriptions and featured channels."
   ]
  },
  {
   "cell_type": "code",
   "execution_count": 3,
   "metadata": {},
   "outputs": [],
   "source": [
    "yt = youtube_api.YoutubeDataApi(key)"
   ]
  },
  {
   "cell_type": "code",
   "execution_count": 4,
   "metadata": {},
   "outputs": [
    {
     "data": {
      "text/plain": [
       "'UCaLfMkkHhSA_LaCta0BzyhQ'"
      ]
     },
     "execution_count": 4,
     "metadata": {},
     "output_type": "execute_result"
    }
   ],
   "source": [
    "yt.get_channel_id_from_user('munchies')"
   ]
  },
  {
   "cell_type": "code",
   "execution_count": 5,
   "metadata": {
    "collapsed": true
   },
   "outputs": [],
   "source": [
    "channel_id = 'UCaLfMkkHhSA_LaCta0BzyhQ'"
   ]
  },
  {
   "cell_type": "markdown",
   "metadata": {},
   "source": [
    "We can collect channel-level metrics and metadata:"
   ]
  },
  {
   "cell_type": "code",
   "execution_count": 6,
   "metadata": {},
   "outputs": [
    {
     "data": {
      "text/plain": [
       "OrderedDict([('channel_id', 'UCaLfMkkHhSA_LaCta0BzyhQ'),\n",
       "             ('title', 'Munchies'),\n",
       "             ('account_creation_date',\n",
       "              datetime.datetime(2014, 3, 24, 21, 21, 29)),\n",
       "             ('keywords',\n",
       "              'food vice \"how to\" cooking recipe \"fresh off the boat\" munchies eating \"epic mealtime\" tutorial \"cooking show\"'),\n",
       "             ('description',\n",
       "              'MUNCHIES is a website and digital video channel from VICE dedicated to food and its global purpose. Launched in 2014, MUNCHIES offers groundbreaking content from a youth driven perspective. In today\\'s modern world, the formerly tangible pleasures of music, film, and emerging media are just one click away. Food and the events that manifest around it are one of the everlasting experiences that cannot be replicated by arcs and zeroes. MUNCHIES chronicles the wide spectrum of the global culinary experience and the diverse voices that are pulling us forward: chefs and home cooks, makers and consumers, the politics and policies of food, \"front\" and \"back of house\" restaurant life, old wives tales and innovative news, and culturally significant indicators in our modern world. Through engaging original video content, compelling editorial features, articles, how-tos, recipes and events, MUNCHIES offers a signature perspective on the intersection where humans and food connect.'),\n",
       "             ('view_count', '476623064'),\n",
       "             ('video_count', '803'),\n",
       "             ('subscription_count', '2516692'),\n",
       "             ('playlist_id_likes', 'LLaLfMkkHhSA_LaCta0BzyhQ'),\n",
       "             ('playlist_id_uploads', 'UUaLfMkkHhSA_LaCta0BzyhQ'),\n",
       "             ('topic_ids',\n",
       "              'https://en.wikipedia.org/wiki/Lifestyle_(sociology)|https://en.wikipedia.org/wiki/Food|https://en.wikipedia.org/wiki/Entertainment'),\n",
       "             ('country', 'US'),\n",
       "             ('collection_date',\n",
       "              datetime.datetime(2018, 9, 27, 17, 55, 49, 816187))])"
      ]
     },
     "execution_count": 6,
     "metadata": {},
     "output_type": "execute_result"
    }
   ],
   "source": [
    "channel_meta = yt.get_channel_metadata(channel_id)\n",
    "channel_meta"
   ]
  },
  {
   "cell_type": "markdown",
   "metadata": {},
   "source": [
    "Note that `topic_ids` is a json serialized list."
   ]
  },
  {
   "cell_type": "code",
   "execution_count": 7,
   "metadata": {},
   "outputs": [
    {
     "data": {
      "text/plain": [
       "'https://en.wikipedia.org/wiki/Lifestyle_(sociology)|https://en.wikipedia.org/wiki/Food|https://en.wikipedia.org/wiki/Entertainment'"
      ]
     },
     "execution_count": 7,
     "metadata": {},
     "output_type": "execute_result"
    }
   ],
   "source": [
    "channel_meta['topic_ids']"
   ]
  },
  {
   "cell_type": "markdown",
   "metadata": {},
   "source": [
    "Note for some API calls that require a \"playlist ID\", you need to use the playlist id (from uploads or likes) rather than the `channel_id`."
   ]
  },
  {
   "cell_type": "code",
   "execution_count": 8,
   "metadata": {},
   "outputs": [
    {
     "data": {
      "text/plain": [
       "'UUaLfMkkHhSA_LaCta0BzyhQ'"
      ]
     },
     "execution_count": 8,
     "metadata": {},
     "output_type": "execute_result"
    }
   ],
   "source": [
    "playlist_id = channel_meta['playlist_id_uploads']\n",
    "playlist_id"
   ]
  },
  {
   "cell_type": "code",
   "execution_count": 9,
   "metadata": {},
   "outputs": [
    {
     "data": {
      "text/plain": [
       "False"
      ]
     },
     "execution_count": 9,
     "metadata": {},
     "output_type": "execute_result"
    }
   ],
   "source": [
    "channel_id == playlist_id"
   ]
  },
  {
   "cell_type": "markdown",
   "metadata": {},
   "source": [
    "For user uploads the channel ID's first two letters are replaced with \"UU\" (User Upload) and \"LL\" (Likes), <br>these relationships are captured in two helper-functions.<br> `yt.get_upload_playlist_id()` and `yt.get_liked_playlist_id()`"
   ]
  },
  {
   "cell_type": "code",
   "execution_count": 10,
   "metadata": {},
   "outputs": [
    {
     "data": {
      "text/plain": [
       "'UUaLfMkkHhSA_LaCta0BzyhQ'"
      ]
     },
     "execution_count": 10,
     "metadata": {},
     "output_type": "execute_result"
    }
   ],
   "source": [
    "utils.get_upload_playlist_id(channel_id)"
   ]
  },
  {
   "cell_type": "markdown",
   "metadata": {},
   "source": [
    "We can use the following function to get all the video IDs from any playlist id.<br>\n",
    "`cutoff_date` can be used to filter out videos after a certain date and `stop_after_n_iterations` can be used for testing to return the first N * 50 video ids."
   ]
  },
  {
   "cell_type": "code",
   "execution_count": 11,
   "metadata": {},
   "outputs": [],
   "source": [
    "video_ids = yt.get_videos_from_playlist_id(playlist_id, published_after=datetime.datetime(2017,1,1))"
   ]
  },
  {
   "cell_type": "code",
   "execution_count": 12,
   "metadata": {},
   "outputs": [
    {
     "data": {
      "text/html": [
       "<div>\n",
       "<style scoped>\n",
       "    .dataframe tbody tr th:only-of-type {\n",
       "        vertical-align: middle;\n",
       "    }\n",
       "\n",
       "    .dataframe tbody tr th {\n",
       "        vertical-align: top;\n",
       "    }\n",
       "\n",
       "    .dataframe thead th {\n",
       "        text-align: right;\n",
       "    }\n",
       "</style>\n",
       "<table border=\"1\" class=\"dataframe\">\n",
       "  <thead>\n",
       "    <tr style=\"text-align: right;\">\n",
       "      <th></th>\n",
       "      <th>video_id</th>\n",
       "      <th>channel_id</th>\n",
       "      <th>publish_date</th>\n",
       "      <th>collection_date</th>\n",
       "    </tr>\n",
       "  </thead>\n",
       "  <tbody>\n",
       "    <tr>\n",
       "      <th>0</th>\n",
       "      <td>wmxDZeh8W34</td>\n",
       "      <td>UCaLfMkkHhSA_LaCta0BzyhQ</td>\n",
       "      <td>2018-09-27 15:25:46</td>\n",
       "      <td>2018-09-27 17:55:51.684942</td>\n",
       "    </tr>\n",
       "    <tr>\n",
       "      <th>1</th>\n",
       "      <td>N5Cc3fx-JPo</td>\n",
       "      <td>UCaLfMkkHhSA_LaCta0BzyhQ</td>\n",
       "      <td>2018-09-21 13:00:07</td>\n",
       "      <td>2018-09-27 17:55:51.685020</td>\n",
       "    </tr>\n",
       "    <tr>\n",
       "      <th>2</th>\n",
       "      <td>PIXQdfiRZNk</td>\n",
       "      <td>UCaLfMkkHhSA_LaCta0BzyhQ</td>\n",
       "      <td>2018-09-25 13:00:08</td>\n",
       "      <td>2018-09-27 17:55:51.685081</td>\n",
       "    </tr>\n",
       "    <tr>\n",
       "      <th>3</th>\n",
       "      <td>r2wWEGEMC1M</td>\n",
       "      <td>UCaLfMkkHhSA_LaCta0BzyhQ</td>\n",
       "      <td>2018-09-20 13:00:08</td>\n",
       "      <td>2018-09-27 17:55:51.685140</td>\n",
       "    </tr>\n",
       "    <tr>\n",
       "      <th>4</th>\n",
       "      <td>SakUDuMWloI</td>\n",
       "      <td>UCaLfMkkHhSA_LaCta0BzyhQ</td>\n",
       "      <td>2018-09-14 15:30:52</td>\n",
       "      <td>2018-09-27 17:55:51.685198</td>\n",
       "    </tr>\n",
       "  </tbody>\n",
       "</table>\n",
       "</div>"
      ],
      "text/plain": [
       "      video_id                channel_id        publish_date  \\\n",
       "0  wmxDZeh8W34  UCaLfMkkHhSA_LaCta0BzyhQ 2018-09-27 15:25:46   \n",
       "1  N5Cc3fx-JPo  UCaLfMkkHhSA_LaCta0BzyhQ 2018-09-21 13:00:07   \n",
       "2  PIXQdfiRZNk  UCaLfMkkHhSA_LaCta0BzyhQ 2018-09-25 13:00:08   \n",
       "3  r2wWEGEMC1M  UCaLfMkkHhSA_LaCta0BzyhQ 2018-09-20 13:00:08   \n",
       "4  SakUDuMWloI  UCaLfMkkHhSA_LaCta0BzyhQ 2018-09-14 15:30:52   \n",
       "\n",
       "             collection_date  \n",
       "0 2018-09-27 17:55:51.684942  \n",
       "1 2018-09-27 17:55:51.685020  \n",
       "2 2018-09-27 17:55:51.685081  \n",
       "3 2018-09-27 17:55:51.685140  \n",
       "4 2018-09-27 17:55:51.685198  "
      ]
     },
     "execution_count": 12,
     "metadata": {},
     "output_type": "execute_result"
    }
   ],
   "source": [
    "df = pd.DataFrame(video_ids)\n",
    "df.head()"
   ]
  },
  {
   "cell_type": "markdown",
   "metadata": {},
   "source": [
    "Let's look at the data we can collect on a video level..."
   ]
  },
  {
   "cell_type": "code",
   "execution_count": 13,
   "metadata": {},
   "outputs": [
    {
     "data": {
      "text/plain": [
       "['wmxDZeh8W34', 'N5Cc3fx-JPo']"
      ]
     },
     "execution_count": 13,
     "metadata": {},
     "output_type": "execute_result"
    }
   ],
   "source": [
    "video_id = df['video_id'].tolist()\n",
    "video_id[:2]"
   ]
  },
  {
   "cell_type": "code",
   "execution_count": 14,
   "metadata": {},
   "outputs": [
    {
     "data": {
      "text/plain": [
       "OrderedDict([('video_id', 'wmxDZeh8W34'),\n",
       "             ('channel_title', 'Munchies'),\n",
       "             ('channel_id', 'UCaLfMkkHhSA_LaCta0BzyhQ'),\n",
       "             ('video_publish_date',\n",
       "              datetime.datetime(2018, 9, 27, 15, 25, 46)),\n",
       "             ('video_title', 'How To Dress Up a Frozen Pizza'),\n",
       "             ('video_description',\n",
       "              \"A frozen pizza is a nearly perfect food, but Cara Nicoletti knows a few tricks to truly take it all the way. Just add sautéed mushrooms, broccoli rabe, caramelized onions, and some fresh ricotta, and suddenly you have the pizza of your dreams. It's not delivery... it's a frozen pizza that you put delicious things on top of. (...We're working on our ad campaign.)\\n\\nWATCH NEXT: The Pizza Show: Sicily - https://youtu.be/fPHjX6p-RbQ\\n\\nSubscribe to Munchies here: http://bit.ly/Subscribe-to-MUNCHIES\\n\\nCheck out http://munchies.tv for more!\\n\\nFollow Munchies here:\\nFacebook: http://facebook.com/munchies\\nTwitter: http://twitter.com/munchies\\nTumblr: http://munchies.tumblr.com\\nInstagram: http://instagram.com/munchies\\nPinterest: https://www.pinterest.com/munchies\\nFoursquare: https://foursquare.com/munchies\\nMore videos from the VICE network: https://www.fb.com/vicevideo\"),\n",
       "             ('video_category', '24'),\n",
       "             ('video_view_count', '16333'),\n",
       "             ('video_comment_count', '224'),\n",
       "             ('video_like_count', '649'),\n",
       "             ('video_dislike_count', '240'),\n",
       "             ('video_thumbnail',\n",
       "              'https://i.ytimg.com/vi/wmxDZeh8W34/hqdefault.jpg'),\n",
       "             ('video_tags',\n",
       "              \"how to|cooking|Munchies|Munchiestv|food|drinks|eating|chef|restaurant|VICE|chef's night out|matty matheson|action bronson|documentary|documentaries|interview|interviews|culture|world|exclusive|independent|underground|travel|funny|journalism|vice|vice videos|vicevideos|how-to|recipe|cara nicoletti|pizza|frozen pizza|toppings|dress up|gourmet|transform|upgrade\"),\n",
       "             ('collection_date',\n",
       "              datetime.datetime(2018, 9, 27, 17, 55, 53, 94656))])"
      ]
     },
     "execution_count": 14,
     "metadata": {},
     "output_type": "execute_result"
    }
   ],
   "source": [
    "yt.get_video_metadata(video_id[0])"
   ]
  },
  {
   "cell_type": "markdown",
   "metadata": {},
   "source": [
    "The function also works for a list of up to 50 video ids"
   ]
  },
  {
   "cell_type": "code",
   "execution_count": 15,
   "metadata": {},
   "outputs": [],
   "source": [
    "video_meta = yt.get_video_metadata(video_id)"
   ]
  },
  {
   "cell_type": "code",
   "execution_count": 16,
   "metadata": {},
   "outputs": [
    {
     "data": {
      "text/plain": [
       "162"
      ]
     },
     "execution_count": 16,
     "metadata": {},
     "output_type": "execute_result"
    }
   ],
   "source": [
    "len(video_id)"
   ]
  },
  {
   "cell_type": "code",
   "execution_count": 17,
   "metadata": {},
   "outputs": [
    {
     "data": {
      "text/html": [
       "<div>\n",
       "<style scoped>\n",
       "    .dataframe tbody tr th:only-of-type {\n",
       "        vertical-align: middle;\n",
       "    }\n",
       "\n",
       "    .dataframe tbody tr th {\n",
       "        vertical-align: top;\n",
       "    }\n",
       "\n",
       "    .dataframe thead th {\n",
       "        text-align: right;\n",
       "    }\n",
       "</style>\n",
       "<table border=\"1\" class=\"dataframe\">\n",
       "  <thead>\n",
       "    <tr style=\"text-align: right;\">\n",
       "      <th></th>\n",
       "      <th>video_id</th>\n",
       "      <th>channel_title</th>\n",
       "      <th>channel_id</th>\n",
       "      <th>video_publish_date</th>\n",
       "      <th>video_title</th>\n",
       "      <th>video_description</th>\n",
       "      <th>video_category</th>\n",
       "      <th>video_view_count</th>\n",
       "      <th>video_comment_count</th>\n",
       "      <th>video_like_count</th>\n",
       "      <th>video_dislike_count</th>\n",
       "      <th>video_thumbnail</th>\n",
       "      <th>video_tags</th>\n",
       "      <th>collection_date</th>\n",
       "    </tr>\n",
       "  </thead>\n",
       "  <tbody>\n",
       "    <tr>\n",
       "      <th>0</th>\n",
       "      <td>wmxDZeh8W34</td>\n",
       "      <td>Munchies</td>\n",
       "      <td>UCaLfMkkHhSA_LaCta0BzyhQ</td>\n",
       "      <td>2018-09-27 15:25:46</td>\n",
       "      <td>How To Dress Up a Frozen Pizza</td>\n",
       "      <td>A frozen pizza is a nearly perfect food, but C...</td>\n",
       "      <td>24</td>\n",
       "      <td>16333</td>\n",
       "      <td>224</td>\n",
       "      <td>649</td>\n",
       "      <td>240</td>\n",
       "      <td>https://i.ytimg.com/vi/wmxDZeh8W34/hqdefault.jpg</td>\n",
       "      <td>how to|cooking|Munchies|Munchiestv|food|drinks...</td>\n",
       "      <td>2018-09-27 17:55:54.036701</td>\n",
       "    </tr>\n",
       "    <tr>\n",
       "      <th>1</th>\n",
       "      <td>N5Cc3fx-JPo</td>\n",
       "      <td>Munchies</td>\n",
       "      <td>UCaLfMkkHhSA_LaCta0BzyhQ</td>\n",
       "      <td>2018-09-21 13:00:07</td>\n",
       "      <td>How To Make Mustard-Braised Chicken</td>\n",
       "      <td>Full Recipe Here: https://vice.video/2pqy5MJ\\n...</td>\n",
       "      <td>24</td>\n",
       "      <td>78323</td>\n",
       "      <td>195</td>\n",
       "      <td>2386</td>\n",
       "      <td>52</td>\n",
       "      <td>https://i.ytimg.com/vi/N5Cc3fx-JPo/hqdefault.jpg</td>\n",
       "      <td>how to|cooking|Munchies|Munchiestv|food|drinks...</td>\n",
       "      <td>2018-09-27 17:55:54.036779</td>\n",
       "    </tr>\n",
       "  </tbody>\n",
       "</table>\n",
       "</div>"
      ],
      "text/plain": [
       "      video_id channel_title                channel_id  video_publish_date  \\\n",
       "0  wmxDZeh8W34      Munchies  UCaLfMkkHhSA_LaCta0BzyhQ 2018-09-27 15:25:46   \n",
       "1  N5Cc3fx-JPo      Munchies  UCaLfMkkHhSA_LaCta0BzyhQ 2018-09-21 13:00:07   \n",
       "\n",
       "                           video_title  \\\n",
       "0       How To Dress Up a Frozen Pizza   \n",
       "1  How To Make Mustard-Braised Chicken   \n",
       "\n",
       "                                   video_description video_category  \\\n",
       "0  A frozen pizza is a nearly perfect food, but C...             24   \n",
       "1  Full Recipe Here: https://vice.video/2pqy5MJ\\n...             24   \n",
       "\n",
       "  video_view_count video_comment_count video_like_count video_dislike_count  \\\n",
       "0            16333                 224              649                 240   \n",
       "1            78323                 195             2386                  52   \n",
       "\n",
       "                                    video_thumbnail  \\\n",
       "0  https://i.ytimg.com/vi/wmxDZeh8W34/hqdefault.jpg   \n",
       "1  https://i.ytimg.com/vi/N5Cc3fx-JPo/hqdefault.jpg   \n",
       "\n",
       "                                          video_tags  \\\n",
       "0  how to|cooking|Munchies|Munchiestv|food|drinks...   \n",
       "1  how to|cooking|Munchies|Munchiestv|food|drinks...   \n",
       "\n",
       "             collection_date  \n",
       "0 2018-09-27 17:55:54.036701  \n",
       "1 2018-09-27 17:55:54.036779  "
      ]
     },
     "execution_count": 17,
     "metadata": {},
     "output_type": "execute_result"
    }
   ],
   "source": [
    "df_video_meta = pd.DataFrame(video_meta)\n",
    "df_video_meta.head(2)"
   ]
  },
  {
   "cell_type": "markdown",
   "metadata": {},
   "source": [
    "For establishing relationships you can list featured channels and subscriptions"
   ]
  },
  {
   "cell_type": "code",
   "execution_count": 18,
   "metadata": {},
   "outputs": [
    {
     "data": {
      "text/plain": [
       "[{'UCaLfMkkHhSA_LaCta0BzyhQ': ['UCn8zNIfYAQNdrFRrr8oibKw',\n",
       "   'UCWF0PiUvUi3Jma2oFgaiX2w',\n",
       "   'UCfQDD-pbllOCXHYwiXxjJxA',\n",
       "   'UCZaT_X_mc0BI-djXOlfhqWQ',\n",
       "   'UCB6PV0cvJpzlcXRG7nz6PpQ',\n",
       "   'UC0iwHRFpv2_fpojZgQhElEQ',\n",
       "   'UC_NaA2HkWDT6dliWVcvnkuQ',\n",
       "   'UCS6R2iiAJ1FvEYl4B3zmljw',\n",
       "   'UC8C8WuWSsFjWFaTHcUQeQxA',\n",
       "   'UC9ISPZsMaBi5mutsgX6LC1g',\n",
       "   'UCiZCX1R1F3xYGbeXq1JscKA',\n",
       "   'UCVfmHpXONv-LVACBV68tq5Q',\n",
       "   'UC5e0xSqwDGlRg3sdvGQh7lg',\n",
       "   'UClW2OsdCa2E_KkLZNpm_9VQ',\n",
       "   'UC9XpoCBNvStSmp3gVf_jG1g',\n",
       "   'UCflb1gG-X1dy1Ru5JIk5sPw',\n",
       "   'UCNDUud96oGK5xQ9gyg913vw']}]"
      ]
     },
     "execution_count": 18,
     "metadata": {},
     "output_type": "execute_result"
    }
   ],
   "source": [
    "yt.get_featured_channels(channel_id)"
   ]
  },
  {
   "cell_type": "markdown",
   "metadata": {},
   "source": [
    "You can save on time by using a list of inputs for some api calls:"
   ]
  },
  {
   "cell_type": "code",
   "execution_count": 19,
   "metadata": {
    "collapsed": true
   },
   "outputs": [],
   "source": [
    "channel_ids = ['UCaLfMkkHhSA_LaCta0BzyhQ', 'UC6MFZAOHXlKK1FI7V0XQVeA']"
   ]
  },
  {
   "cell_type": "code",
   "execution_count": 21,
   "metadata": {},
   "outputs": [
    {
     "data": {
      "text/plain": [
       "[{'UCaLfMkkHhSA_LaCta0BzyhQ': ['UCn8zNIfYAQNdrFRrr8oibKw',\n",
       "   'UCWF0PiUvUi3Jma2oFgaiX2w',\n",
       "   'UCfQDD-pbllOCXHYwiXxjJxA',\n",
       "   'UCZaT_X_mc0BI-djXOlfhqWQ',\n",
       "   'UCB6PV0cvJpzlcXRG7nz6PpQ',\n",
       "   'UC0iwHRFpv2_fpojZgQhElEQ',\n",
       "   'UC_NaA2HkWDT6dliWVcvnkuQ',\n",
       "   'UCS6R2iiAJ1FvEYl4B3zmljw',\n",
       "   'UC8C8WuWSsFjWFaTHcUQeQxA',\n",
       "   'UC9ISPZsMaBi5mutsgX6LC1g',\n",
       "   'UCiZCX1R1F3xYGbeXq1JscKA',\n",
       "   'UCVfmHpXONv-LVACBV68tq5Q',\n",
       "   'UC5e0xSqwDGlRg3sdvGQh7lg',\n",
       "   'UClW2OsdCa2E_KkLZNpm_9VQ',\n",
       "   'UC9XpoCBNvStSmp3gVf_jG1g',\n",
       "   'UCflb1gG-X1dy1Ru5JIk5sPw',\n",
       "   'UCNDUud96oGK5xQ9gyg913vw']},\n",
       " {'UC6MFZAOHXlKK1FI7V0XQVeA': ['UCSHsNH4FZXFeSQMJ56AdrBA']}]"
      ]
     },
     "execution_count": 21,
     "metadata": {},
     "output_type": "execute_result"
    }
   ],
   "source": [
    "yt.get_featured_channels(channel_ids)"
   ]
  },
  {
   "cell_type": "markdown",
   "metadata": {},
   "source": [
    "Subscriptions can only done one channel at a time:"
   ]
  },
  {
   "cell_type": "code",
   "execution_count": 22,
   "metadata": {},
   "outputs": [
    {
     "data": {
      "text/plain": [
       "[OrderedDict([('subscription_title', 'VICE en Español .'),\n",
       "              ('subscription_channel_id', 'UCYB6UxeSTHJyEMq-clobnrg'),\n",
       "              ('subscription_kind', 'youtube#channel'),\n",
       "              ('subscription_publish_date',\n",
       "               datetime.datetime(2016, 10, 4, 17, 43, 39)),\n",
       "              ('collection_date',\n",
       "               datetime.datetime(2018, 9, 27, 17, 56, 14, 814517))]),\n",
       " OrderedDict([('subscription_title', 'YouTube Nation'),\n",
       "              ('subscription_channel_id', 'UCUD4yDVyM54QpfqGJX4S7ng'),\n",
       "              ('subscription_kind', 'youtube#channel'),\n",
       "              ('subscription_publish_date',\n",
       "               datetime.datetime(2014, 8, 28, 19, 14, 49)),\n",
       "              ('collection_date',\n",
       "               datetime.datetime(2018, 9, 27, 17, 56, 14, 814575))]),\n",
       " OrderedDict([('subscription_title', 'VICE .'),\n",
       "              ('subscription_channel_id', 'UCn8zNIfYAQNdrFRrr8oibKw'),\n",
       "              ('subscription_kind', 'youtube#channel'),\n",
       "              ('subscription_publish_date',\n",
       "               datetime.datetime(2014, 5, 20, 21, 28, 50)),\n",
       "              ('collection_date',\n",
       "               datetime.datetime(2018, 9, 27, 17, 56, 14, 814616))]),\n",
       " OrderedDict([('subscription_title', 'Brothers Green Eats .'),\n",
       "              ('subscription_channel_id', 'UCzH5n3Ih5kgQoiDAQt2FwLw'),\n",
       "              ('subscription_kind', 'youtube#channel'),\n",
       "              ('subscription_publish_date',\n",
       "               datetime.datetime(2014, 8, 26, 14, 44, 40)),\n",
       "              ('collection_date',\n",
       "               datetime.datetime(2018, 9, 27, 17, 56, 14, 814652))]),\n",
       " OrderedDict([('subscription_title', 'VICELAND .'),\n",
       "              ('subscription_channel_id', 'UCWF0PiUvUi3Jma2oFgaiX2w'),\n",
       "              ('subscription_kind', 'youtube#channel'),\n",
       "              ('subscription_publish_date',\n",
       "               datetime.datetime(2016, 1, 22, 18, 43, 44)),\n",
       "              ('collection_date',\n",
       "               datetime.datetime(2018, 9, 27, 17, 56, 14, 814688))]),\n",
       " OrderedDict([('subscription_title', 'Foodbeast'),\n",
       "              ('subscription_channel_id', 'UC2BFx9glnPZ-fK3UPDo3V3A'),\n",
       "              ('subscription_kind', 'youtube#channel'),\n",
       "              ('subscription_publish_date',\n",
       "               datetime.datetime(2016, 6, 1, 17, 11, 33)),\n",
       "              ('collection_date',\n",
       "               datetime.datetime(2018, 9, 27, 17, 56, 14, 814723))]),\n",
       " OrderedDict([('subscription_title', 'Gordon Ramsay .'),\n",
       "              ('subscription_channel_id', 'UCIEv3lZ_tNXHzL3ox-_uUGQ'),\n",
       "              ('subscription_kind', 'youtube#channel'),\n",
       "              ('subscription_publish_date',\n",
       "               datetime.datetime(2015, 6, 26, 19, 46, 17)),\n",
       "              ('collection_date',\n",
       "               datetime.datetime(2018, 9, 27, 17, 56, 14, 814762))]),\n",
       " OrderedDict([('subscription_title', 'Live Nation Productions'),\n",
       "              ('subscription_channel_id', 'UCuKKZcFYDeI6ovM6sujV_zg'),\n",
       "              ('subscription_kind', 'youtube#channel'),\n",
       "              ('subscription_publish_date',\n",
       "               datetime.datetime(2015, 9, 14, 15, 33, 47)),\n",
       "              ('collection_date',\n",
       "               datetime.datetime(2018, 9, 27, 17, 56, 14, 814797))]),\n",
       " OrderedDict([('subscription_title', 'Desus & Mero'),\n",
       "              ('subscription_channel_id', 'UCNDUud96oGK5xQ9gyg913vw'),\n",
       "              ('subscription_kind', 'youtube#channel'),\n",
       "              ('subscription_publish_date',\n",
       "               datetime.datetime(2016, 10, 13, 21, 12, 26)),\n",
       "              ('collection_date',\n",
       "               datetime.datetime(2018, 9, 27, 17, 56, 14, 814831))]),\n",
       " OrderedDict([('subscription_title', 'Tonic'),\n",
       "              ('subscription_channel_id', 'UCroeDtD1dtd1leuxUHDMTXQ'),\n",
       "              ('subscription_kind', 'youtube#channel'),\n",
       "              ('subscription_publish_date',\n",
       "               datetime.datetime(2017, 5, 4, 18, 34, 46)),\n",
       "              ('collection_date',\n",
       "               datetime.datetime(2018, 9, 27, 17, 56, 14, 814866))]),\n",
       " OrderedDict([('subscription_title', 'i-D .'),\n",
       "              ('subscription_channel_id', 'UC9ISPZsMaBi5mutsgX6LC1g'),\n",
       "              ('subscription_kind', 'youtube#channel'),\n",
       "              ('subscription_publish_date',\n",
       "               datetime.datetime(2014, 7, 23, 23, 36, 29)),\n",
       "              ('collection_date',\n",
       "               datetime.datetime(2018, 9, 27, 17, 56, 14, 814908))]),\n",
       " OrderedDict([('subscription_title', 'Dan Churchill .'),\n",
       "              ('subscription_channel_id', 'UCaSF0d06nxqCfeuxge5TWxw'),\n",
       "              ('subscription_kind', 'youtube#channel'),\n",
       "              ('subscription_publish_date',\n",
       "               datetime.datetime(2016, 8, 3, 1, 57, 16)),\n",
       "              ('collection_date',\n",
       "               datetime.datetime(2018, 9, 27, 17, 56, 14, 814954))]),\n",
       " OrderedDict([('subscription_title', 'Noisey .'),\n",
       "              ('subscription_channel_id', 'UC0iwHRFpv2_fpojZgQhElEQ'),\n",
       "              ('subscription_kind', 'youtube#channel'),\n",
       "              ('subscription_publish_date',\n",
       "               datetime.datetime(2014, 5, 20, 21, 28, 46)),\n",
       "              ('collection_date',\n",
       "               datetime.datetime(2018, 9, 27, 17, 56, 14, 815003))]),\n",
       " OrderedDict([('subscription_title', 'CookingShooking .'),\n",
       "              ('subscription_channel_id', 'UCfwHP1M0AFSPqTdjzXhV0Zg'),\n",
       "              ('subscription_kind', 'youtube#channel'),\n",
       "              ('subscription_publish_date',\n",
       "               datetime.datetime(2017, 2, 23, 5, 32, 55)),\n",
       "              ('collection_date',\n",
       "               datetime.datetime(2018, 9, 27, 17, 56, 14, 815038))]),\n",
       " OrderedDict([('subscription_title', 'Amuse .'),\n",
       "              ('subscription_channel_id', 'UCflb1gG-X1dy1Ru5JIk5sPw'),\n",
       "              ('subscription_kind', 'youtube#channel'),\n",
       "              ('subscription_publish_date',\n",
       "               datetime.datetime(2015, 9, 8, 17, 12, 44)),\n",
       "              ('collection_date',\n",
       "               datetime.datetime(2018, 9, 27, 17, 56, 14, 815072))]),\n",
       " OrderedDict([('subscription_title', 'Motherboard .'),\n",
       "              ('subscription_channel_id', 'UCB6PV0cvJpzlcXRG7nz6PpQ'),\n",
       "              ('subscription_kind', 'youtube#channel'),\n",
       "              ('subscription_publish_date',\n",
       "               datetime.datetime(2014, 5, 20, 21, 28, 52)),\n",
       "              ('collection_date',\n",
       "               datetime.datetime(2018, 9, 27, 17, 56, 14, 815106))]),\n",
       " OrderedDict([('subscription_title', 'Andy Milonakis'),\n",
       "              ('subscription_channel_id', 'UC5e0xSqwDGlRg3sdvGQh7lg'),\n",
       "              ('subscription_kind', 'youtube#channel'),\n",
       "              ('subscription_publish_date',\n",
       "               datetime.datetime(2014, 12, 17, 21, 14, 48)),\n",
       "              ('collection_date',\n",
       "               datetime.datetime(2018, 9, 27, 17, 56, 14, 815139))]),\n",
       " OrderedDict([('subscription_title', 'Broadly .'),\n",
       "              ('subscription_channel_id', 'UCfQDD-pbllOCXHYwiXxjJxA'),\n",
       "              ('subscription_kind', 'youtube#channel'),\n",
       "              ('subscription_publish_date',\n",
       "               datetime.datetime(2015, 7, 10, 20, 38, 8)),\n",
       "              ('collection_date',\n",
       "               datetime.datetime(2018, 9, 27, 17, 56, 14, 815173))]),\n",
       " OrderedDict([('subscription_title', 'First We Feast .'),\n",
       "              ('subscription_channel_id', 'UCPD_bxCRGpmmeQcbe2kpPaA'),\n",
       "              ('subscription_kind', 'youtube#channel'),\n",
       "              ('subscription_publish_date',\n",
       "               datetime.datetime(2017, 8, 2, 17, 37, 4)),\n",
       "              ('collection_date',\n",
       "               datetime.datetime(2018, 9, 27, 17, 56, 14, 815207))]),\n",
       " OrderedDict([('subscription_title', 'THUMP .'),\n",
       "              ('subscription_channel_id', 'UCS6R2iiAJ1FvEYl4B3zmljw'),\n",
       "              ('subscription_kind', 'youtube#channel'),\n",
       "              ('subscription_publish_date',\n",
       "               datetime.datetime(2014, 5, 20, 21, 28, 54)),\n",
       "              ('collection_date',\n",
       "               datetime.datetime(2018, 9, 27, 17, 56, 14, 815240))]),\n",
       " OrderedDict([('subscription_title', 'VICE News'),\n",
       "              ('subscription_channel_id', 'UCZaT_X_mc0BI-djXOlfhqWQ'),\n",
       "              ('subscription_kind', 'youtube#channel'),\n",
       "              ('subscription_publish_date',\n",
       "               datetime.datetime(2014, 7, 23, 23, 36, 26)),\n",
       "              ('collection_date',\n",
       "               datetime.datetime(2018, 9, 27, 17, 56, 14, 815273))]),\n",
       " OrderedDict([('subscription_title', 'Creators'),\n",
       "              ('subscription_channel_id', 'UC_NaA2HkWDT6dliWVcvnkuQ'),\n",
       "              ('subscription_kind', 'youtube#channel'),\n",
       "              ('subscription_publish_date',\n",
       "               datetime.datetime(2014, 5, 20, 21, 28, 52)),\n",
       "              ('collection_date',\n",
       "               datetime.datetime(2018, 9, 27, 17, 56, 14, 815306))]),\n",
       " OrderedDict([('subscription_title', 'Action Bronson'),\n",
       "              ('subscription_channel_id', 'UC2utQmYluWGlhV-W0rTA2wg'),\n",
       "              ('subscription_kind', 'youtube#channel'),\n",
       "              ('subscription_publish_date',\n",
       "               datetime.datetime(2014, 11, 4, 15, 31, 19)),\n",
       "              ('collection_date',\n",
       "               datetime.datetime(2018, 9, 27, 17, 56, 14, 815339))]),\n",
       " OrderedDict([('subscription_title', 'VICE Asia'),\n",
       "              ('subscription_channel_id', 'UC8ZyfGD_qP-v75DGCzYQw6g'),\n",
       "              ('subscription_kind', 'youtube#channel'),\n",
       "              ('subscription_publish_date',\n",
       "               datetime.datetime(2018, 9, 27, 15, 35, 43, 636000)),\n",
       "              ('collection_date',\n",
       "               datetime.datetime(2018, 9, 27, 17, 56, 14, 815373))]),\n",
       " OrderedDict([('subscription_title', 'VICE Arabia'),\n",
       "              ('subscription_channel_id', 'UCIZ3xweMcx1XUlcwRESbmBw'),\n",
       "              ('subscription_kind', 'youtube#channel'),\n",
       "              ('subscription_publish_date',\n",
       "               datetime.datetime(2017, 11, 27, 23, 21, 22)),\n",
       "              ('collection_date',\n",
       "               datetime.datetime(2018, 9, 27, 17, 56, 14, 815407))]),\n",
       " OrderedDict([('subscription_title', 'Fightland .'),\n",
       "              ('subscription_channel_id', 'UCVfmHpXONv-LVACBV68tq5Q'),\n",
       "              ('subscription_kind', 'youtube#channel'),\n",
       "              ('subscription_publish_date',\n",
       "               datetime.datetime(2014, 10, 7, 17, 50, 32)),\n",
       "              ('collection_date',\n",
       "               datetime.datetime(2018, 9, 27, 17, 56, 14, 815440))]),\n",
       " OrderedDict([('subscription_title', 'CookItRawLapland'),\n",
       "              ('subscription_channel_id', 'UCTTMZrH1FNnE285uaOCVFwg'),\n",
       "              ('subscription_kind', 'youtube#channel'),\n",
       "              ('subscription_publish_date',\n",
       "               datetime.datetime(2014, 9, 10, 15, 15, 33)),\n",
       "              ('collection_date',\n",
       "               datetime.datetime(2018, 9, 27, 17, 56, 14, 815474))]),\n",
       " OrderedDict([('subscription_title', 'VICE Japan .'),\n",
       "              ('subscription_channel_id', 'UCiZCX1R1F3xYGbeXq1JscKA'),\n",
       "              ('subscription_kind', 'youtube#channel'),\n",
       "              ('subscription_publish_date',\n",
       "               datetime.datetime(2014, 5, 20, 21, 28, 55)),\n",
       "              ('collection_date',\n",
       "               datetime.datetime(2018, 9, 27, 17, 56, 14, 815507))]),\n",
       " OrderedDict([('subscription_title', 'VICE Sports .'),\n",
       "              ('subscription_channel_id', 'UC8C8WuWSsFjWFaTHcUQeQxA'),\n",
       "              ('subscription_kind', 'youtube#channel'),\n",
       "              ('subscription_publish_date',\n",
       "               datetime.datetime(2014, 5, 23, 15, 32, 17)),\n",
       "              ('collection_date',\n",
       "               datetime.datetime(2018, 9, 27, 17, 56, 14, 815540))]),\n",
       " OrderedDict([('subscription_title', 'Waypoint'),\n",
       "              ('subscription_channel_id', 'UCWu9QuHF-dcakBmhullIH6w'),\n",
       "              ('subscription_kind', 'youtube#channel'),\n",
       "              ('subscription_publish_date',\n",
       "               datetime.datetime(2016, 11, 8, 1, 50, 22)),\n",
       "              ('collection_date',\n",
       "               datetime.datetime(2018, 9, 27, 17, 56, 14, 815573))])]"
      ]
     },
     "execution_count": 22,
     "metadata": {},
     "output_type": "execute_result"
    }
   ],
   "source": [
    "yt.get_subscriptions(channel_id)"
   ]
  },
  {
   "cell_type": "markdown",
   "metadata": {},
   "source": [
    "Subscriptions can be more descriptive by setting the `descriptive` flag as True."
   ]
  },
  {
   "cell_type": "code",
   "execution_count": 23,
   "metadata": {},
   "outputs": [
    {
     "data": {
      "text/plain": [
       "[OrderedDict([('subscription_title', 'VICE en Español .'),\n",
       "              ('subscription_channel_id', 'UCYB6UxeSTHJyEMq-clobnrg'),\n",
       "              ('subscription_kind', 'youtube#channel'),\n",
       "              ('subscription_publish_date',\n",
       "               datetime.datetime(2016, 10, 4, 17, 43, 39)),\n",
       "              ('collection_date',\n",
       "               datetime.datetime(2018, 9, 27, 17, 56, 28, 531035))]),\n",
       " OrderedDict([('subscription_title', 'YouTube Nation'),\n",
       "              ('subscription_channel_id', 'UCUD4yDVyM54QpfqGJX4S7ng'),\n",
       "              ('subscription_kind', 'youtube#channel'),\n",
       "              ('subscription_publish_date',\n",
       "               datetime.datetime(2014, 8, 28, 19, 14, 49)),\n",
       "              ('collection_date',\n",
       "               datetime.datetime(2018, 9, 27, 17, 56, 28, 531094))])]"
      ]
     },
     "execution_count": 23,
     "metadata": {},
     "output_type": "execute_result"
    }
   ],
   "source": [
    "yt.get_subscriptions(channel_id)[:2]"
   ]
  },
  {
   "cell_type": "markdown",
   "metadata": {},
   "source": [
    "You can also get the comments for a given video"
   ]
  },
  {
   "cell_type": "code",
   "execution_count": 24,
   "metadata": {},
   "outputs": [
    {
     "data": {
      "text/plain": [
       "[OrderedDict([('video_id', 'wmxDZeh8W34'),\n",
       "              ('commenter_channel_url',\n",
       "               'http://www.youtube.com/channel/UCgUewvD0u0Kr9pr1JpiXmkw'),\n",
       "              ('commenter_channel_display_name', 'Noma'),\n",
       "              ('comment_id', 'Ugx3elfeZbnFxqUrZKF4AaABAg'),\n",
       "              ('comment_like_count', 0),\n",
       "              ('comment_publish_date',\n",
       "               datetime.datetime(2018, 9, 27, 21, 32, 28)),\n",
       "              ('text', 'hey Cara, why does your necklace say Gabriela?'),\n",
       "              ('commenter_rating', 'none'),\n",
       "              ('comment_parent_id', None),\n",
       "              ('collection_date',\n",
       "               datetime.datetime(2018, 9, 27, 17, 56, 39, 470124)),\n",
       "              ('reply_count', 0)]),\n",
       " OrderedDict([('video_id', 'wmxDZeh8W34'),\n",
       "              ('commenter_channel_url',\n",
       "               'http://www.youtube.com/channel/UCv2Wir-dLGSQ2zLl9rL5uBw'),\n",
       "              ('commenter_channel_display_name', 'teamSHiTpiG'),\n",
       "              ('comment_id', 'UgwHQ8pDsMObB7zVNgZ4AaABAg'),\n",
       "              ('comment_like_count', 1),\n",
       "              ('comment_publish_date',\n",
       "               datetime.datetime(2018, 9, 27, 21, 26, 55)),\n",
       "              ('text',\n",
       "               'since cardboard was no used to cook frozen pizza... send cardboard to me so i can live in it.'),\n",
       "              ('commenter_rating', 'none'),\n",
       "              ('comment_parent_id', None),\n",
       "              ('collection_date',\n",
       "               datetime.datetime(2018, 9, 27, 17, 56, 39, 470200)),\n",
       "              ('reply_count', 0)])]"
      ]
     },
     "execution_count": 24,
     "metadata": {},
     "output_type": "execute_result"
    }
   ],
   "source": [
    "yt.get_video_comments(video_id[0], max_results=2)"
   ]
  },
  {
   "cell_type": "markdown",
   "metadata": {},
   "source": [
    "For more text we can get closed captions!"
   ]
  },
  {
   "cell_type": "code",
   "execution_count": 43,
   "metadata": {
    "collapsed": true
   },
   "outputs": [],
   "source": [
    "video_id = 'wmxDZeh8W34'"
   ]
  },
  {
   "cell_type": "code",
   "execution_count": 42,
   "metadata": {
    "collapsed": true
   },
   "outputs": [],
   "source": [
    "captions = yt.get_captions(video_id)"
   ]
  },
  {
   "cell_type": "code",
   "execution_count": 44,
   "metadata": {},
   "outputs": [
    {
     "data": {
      "text/plain": [
       "{'caption': \"I have put some despicable things onto frozen pizza like some really fancy things that I shouldn't even admit I have put a black truffle on a frozen pizza but I did not pay for that black truffle and I was don't [Music] I'm car Nicoletti today I am in the munchies Test Kitchen and I'm gonna show you how to doctor up a frozen pizza you can trick people into thinking you're an amazing cook for this rendition today I'm going to use a variety of wild mushrooms some broccoli rabe I'm gonna caramelize some onions and then I have some fresh ricotta that I'm gonna dollop on usually frozen pizzas will come with round of cardboard underneath and I'm doing it on a sheet pan I think sometimes the cardboard makes it taste like cardboard so I'm gonna put this in the oven right now for about 25 minutes and while it's cooking I'm gonna cook all the toppings just to make this even easier I'm gonna try to do everything in one pan I'm not gonna try I'm gonna do everything in one pan first because it takes the longest I'm gonna caramelize the onions slice them thin and this is vegetable oil I'm using butter the butter imparts good flavor but the vegetable oil were protected from burning so while these are cooking I'm going to get the mushrooms ready these are just things that I would order want to take outside these are brown beech mushrooms shiitakes and oyster mushrooms these ones are relatively clean but sometimes they come and they're like really really dirty I say wash them you're adding liquid to something that retains a lot of moisture but I think that's better than eating something gritty and sandy and then moisture will cook out while you're cooking them you're probably not gonna need a ton for one frozen pizza but make sure you're giving yourself with generous portion the onions have been cooking for about 20 minutes they're nice and caramelized and brown and just squeeze some lemon in here just because the onions are really sweet once they've been caramelized and they need a little bit of acid to break them up now I'm going to transfer them to another bowl and I'm going to get the mushrooms going in the same pan little more oil already eating a frozen pizza so no need to be precious and I'm adding salt here just to get some of the liquid to start me too now because that's how you get nice golden crystals so the mushrooms are starting to brown a little and they're starting to sweat down and are you see they're shrinking a bit amount what I generally find is that they steam the water comes out they shrink down and then they have space okay so these are pretty brown and we're gonna take them out so with the broccoli rabe I'm just gonna trim the ends which are a little bit woody and saute them with olive oil and this is also really great if you want to impress a date but you don't know how to cook it's basically just a flatbread with cheese that you're amplifying if you hope once it's kind of wilted I will squeeze some lemon juice onto it all right this looks good to me you know again don't want to get them too far because they're gonna go back in the oven for another 5 minutes this is the pizza you absolutely could just eat it at this stage and it would be delicious but we really didn't do that much work and it's about to be I mean this is really choose-your-own-adventure personally like a solid layer of mushrooms I'm doing with my hands because I will eat this pizza by myself okay so now I'm doing the caramelized onions ladies a little broccoli rabe sout it's a real art to this this is the almost finished frozen pizza so this is gonna go in the oven for 5 more minutes at 4 major it just everything really like melded together [Music] the mushrooms got a little browner so too the broccoli rabe which is what we were wanting I'm gonna dollop ricotta all over it I'm gonna take a little bit further I'm gonna add some more brightness I'm gonna zest like half a lemon on top here you have your frozen pizza classic nothing done to it here we have this masterpiece it's not delivery it's not homemade it's not not homey it's no longer frozen it's what's for dinner Pizza it's really good there's bitterness from the broccoli rabe sweetness from the onion moodiness from the mushroom creaminess from the ricotta and then you just have to base which is a frozen pizza which is a beautiful thing [Music]\",\n",
       " 'video_id': 'wmxDZeh8W34',\n",
       " 'collection_date': datetime.datetime(2018, 9, 27, 18, 7, 28, 644110)}"
      ]
     },
     "execution_count": 44,
     "metadata": {},
     "output_type": "execute_result"
    }
   ],
   "source": [
    "captions"
   ]
  },
  {
   "cell_type": "markdown",
   "metadata": {},
   "source": [
    "You can also get the recommended videos for any given video"
   ]
  },
  {
   "cell_type": "code",
   "execution_count": 45,
   "metadata": {
    "collapsed": true
   },
   "outputs": [],
   "source": [
    "recommended_vids = yt.get_recommended_videos(video_id)"
   ]
  },
  {
   "cell_type": "code",
   "execution_count": 46,
   "metadata": {},
   "outputs": [
    {
     "data": {
      "text/plain": [
       "[OrderedDict([('video_id', 'SakUDuMWloI'),\n",
       "              ('channel_title', 'Munchies'),\n",
       "              ('channel_id', 'UCaLfMkkHhSA_LaCta0BzyhQ'),\n",
       "              ('video_publish_date',\n",
       "               datetime.datetime(2018, 9, 13, 23, 2, 35)),\n",
       "              ('video_title',\n",
       "               'How To Make Hennessy Shrimp 3 Ways with Meyhem Lauren'),\n",
       "              ('video_description',\n",
       "               'Meyhem Lauren is back in the MUNCHIES test kitchen to make his dreams come true by combining his two eternal loves: Hennessy and shrimp. \\n\\nPrepare to have your mind blown with not just one, but three, Hennessy and shrimp recipes: Hennessy-glazed shrimp, Hennessy shrimp au poivre, and crab stuffed shrimp.\\n\\nLinks to all the recipes below: \\n\\nEasy Glazed Shrimp: https://vice.video/2NdFEVt\\n\\nCrab Stuffed Shrimp: https://vice.video/2OlQSDU\\n\\nShrimp and Hennessy Pasta: https://vice.video/2OmjahD\\n\\nSubscribe to Munchies here: http://bit.ly/Subscribe-to-MUNCHIES\\n\\nCheck out http://munchies.tv for more!\\n\\nFollow Munchies here:\\nFacebook: http://facebook.com/munchies\\nTwitter: http://twitter.com/munchies\\nTumblr: http://munchies.tumblr.com\\nInstagram: http://instagram.com/munchies\\nPinterest: https://www.pinterest.com/munchies\\nFoursquare: https://foursquare.com/munchies\\nMore videos from the VICE network: https://www.fb.com/vicevideo'),\n",
       "              ('video_category', None),\n",
       "              ('video_thumbnail',\n",
       "               'https://i.ytimg.com/vi/SakUDuMWloI/hqdefault.jpg'),\n",
       "              ('collection_date',\n",
       "               datetime.datetime(2018, 9, 27, 18, 7, 47, 658391))]),\n",
       " OrderedDict([('video_id', 'FBbBWifAdCg'),\n",
       "              ('channel_title', 'Munchies'),\n",
       "              ('channel_id', 'UCaLfMkkHhSA_LaCta0BzyhQ'),\n",
       "              ('video_publish_date',\n",
       "               datetime.datetime(2017, 12, 14, 22, 46, 31)),\n",
       "              ('video_title',\n",
       "               'The Pizza Show: Naples, The Birthplace of Pizza'),\n",
       "              ('video_description',\n",
       "               \"The Pizza Show has finally made it to Naples, the birthplace of pizza. Our host Frank Pinello embarks on the ultimate Neapolitan pizza journey, visiting some of the most famous pizzerias in the world and hanging out with some of the best pizzaiolos in the business. \\n\\nWe visit one of the best cheesemakers in Campania, Caseificio Il Casolare, to see how buffalo mozzarella gets made; check in with our favorite Neapolitan oven builders, the father-son duo of Steffano Ferrara Forni; visit Pepe in Grani, Franco Pepe's pizza palace; make a pizza with master pizzaiolo Gino Sorbillo; and even use Enzo Coccia Queen Margherita's very own oven. This is a pizza lover's dream come true.\\n\\nSubscribe to Munchies here: http://bit.ly/Subscribe-to-MUNCHIES\\n\\nCheck out http://munchies.tv for more!\\n\\nFollow Munchies here:\\nFacebook: http://facebook.com/munchies\\nTwitter: http://twitter.com/munchies\\nTumblr: http://munchies.tumblr.com\\nInstagram: http://instagram.com/munchies\\nPinterest: https://www.pinterest.com/munchies\\nFoursquare: https://foursquare.com/munchies\\nMore videos from the VICE network: https://www.fb.com/vicevideo\"),\n",
       "              ('video_category', None),\n",
       "              ('video_thumbnail',\n",
       "               'https://i.ytimg.com/vi/FBbBWifAdCg/hqdefault.jpg'),\n",
       "              ('collection_date',\n",
       "               datetime.datetime(2018, 9, 27, 18, 7, 47, 658454))])]"
      ]
     },
     "execution_count": 46,
     "metadata": {},
     "output_type": "execute_result"
    }
   ],
   "source": [
    "recommended_vids[:2]"
   ]
  },
  {
   "cell_type": "code",
   "execution_count": null,
   "metadata": {},
   "outputs": [],
   "source": []
  }
 ],
 "metadata": {
  "kernelspec": {
   "display_name": "Python 3",
   "language": "python",
   "name": "python3"
  },
  "language_info": {
   "codemirror_mode": {
    "name": "ipython",
    "version": 3
   },
   "file_extension": ".py",
   "mimetype": "text/x-python",
   "name": "python",
   "nbconvert_exporter": "python",
   "pygments_lexer": "ipython3",
   "version": "3.6.5"
  }
 },
 "nbformat": 4,
 "nbformat_minor": 2
}
