{
 "cells": [
  {
   "cell_type": "code",
   "execution_count": null,
   "metadata": {
    "collapsed": true
   },
   "outputs": [],
   "source": [
    "topics = ['''Music\n",
    "/m/04rlf Music\n",
    "/m/05fw6t Children's music\n",
    "/m/02mscn Christian music\n",
    "/m/0ggq0m Classical music\n",
    "/m/01lyv Country\n",
    "/m/02lkt Electronic music\n",
    "/m/0glt670 Hip hop music\n",
    "/m/05rwpb Independent music\n",
    "/m/03_d0 Jazz\n",
    "/m/028sqc Music of Asia\n",
    "/m/0g293 Music of Latin America\n",
    "/m/064t9 Pop music\n",
    "/m/06cqb Reggae\n",
    "/m/06j6l Rhythm and blues\n",
    "/m/06by7 Rock music\n",
    "/m/0gywn Soul music''',\n",
    "'''Gaming\n",
    "/m/0bzvm2 Gaming\n",
    "/m/025zzc Action game\n",
    "/m/02ntfj Action-adventure game\n",
    "/m/0b1vjn Casual game\n",
    "/m/02hygl Music video game\n",
    "/m/04q1x3q Puzzle video game\n",
    "/m/01sjng Racing video game\n",
    "/m/0403l3g Role-playing video game\n",
    "/m/021bp2 Simulation video game\n",
    "/m/022dc6 Sports game\n",
    "/m/03hf_rm Strategy video game''',\n",
    " '''Sports\n",
    "/m/06ntj Sports\n",
    "/m/0jm_ American football\n",
    "/m/018jz Baseball\n",
    "/m/018w8 Basketball\n",
    "/m/01cgz Boxing\n",
    "/m/09xp_ Cricket\n",
    "/m/02vx4 Football\n",
    "/m/037hz Golf\n",
    "/m/03tmr Ice hockey\n",
    "/m/01h7lh Mixed martial arts\n",
    "/m/0410tth Motorsport\n",
    "/m/066wd Professional wrestling\n",
    "/m/07bs0 Tennis\n",
    "/m/07_53 Volleyball''',\n",
    "'''Entertainment\n",
    "/m/02jjt Entertainment\n",
    "/m/095bb Animated cartoon\n",
    "/m/09kqc Humor\n",
    "/m/02vxn Movies\n",
    "/m/05qjc Performing arts''',\n",
    "'''Lifestyle\n",
    "/m/019_rr Lifestyle\n",
    "/m/032tl Fashion\n",
    "/m/027x7n Fitness\n",
    "/m/02wbm Food\n",
    "/m/0kt51 Health\n",
    "/m/03glg Hobby\n",
    "/m/068hy Pets\n",
    "/m/041xxh Physical attractiveness [Beauty]\n",
    "/m/07c1v Technology\n",
    "/m/07bxq Tourism\n",
    "/m/07yv9 Vehicles''',\n",
    "'''Other\n",
    "/m/01k8wb Knowledge\n",
    "/m/098wr Society'''\n",
    "]"
   ]
  },
  {
   "cell_type": "code",
   "execution_count": null,
   "metadata": {
    "collapsed": true
   },
   "outputs": [],
   "source": [
    "def split_topics(s):\n",
    "    s = s.split('\\n')\n",
    "    topic = s[0]\n",
    "    context = {l[0] : {\n",
    "    \"topic\" : topic,\n",
    "    \"subTopic\" : ' '.join(l[1:])} for l in [_.split(' ') for _ in s[1:]]}\n",
    "    return context\n",
    "    "
   ]
  },
  {
   "cell_type": "code",
   "execution_count": null,
   "metadata": {
    "collapsed": true
   },
   "outputs": [],
   "source": [
    "d = {}\n",
    "for topic in topics:\n",
    "    d_ = split_topics(topic)\n",
    "    d = {**d, **d_}"
   ]
  },
  {
   "cell_type": "code",
   "execution_count": null,
   "metadata": {
    "collapsed": true
   },
   "outputs": [],
   "source": [
    "with open('../data/channel_topic.json', 'r') as f:\n",
    "    f.write(json.dumps(d, indent=2))"
   ]
  }
 ],
 "metadata": {
  "kernelspec": {
   "display_name": "Python 3",
   "language": "python",
   "name": "python3"
  },
  "language_info": {
   "codemirror_mode": {
    "name": "ipython",
    "version": 3
   },
   "file_extension": ".py",
   "mimetype": "text/x-python",
   "name": "python",
   "nbconvert_exporter": "python",
   "pygments_lexer": "ipython3",
   "version": "3.6.5"
  }
 },
 "nbformat": 4,
 "nbformat_minor": 2
}
